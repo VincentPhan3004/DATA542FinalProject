{
 "cells": [
  {
   "cell_type": "markdown",
   "metadata": {},
   "source": [
    "# NGHIA PHAN TRONG - FINAL PROJECT\n"
   ]
  },
  {
   "cell_type": "markdown",
   "metadata": {},
   "source": [
    "# A.  IMPLEMENTATION"
   ]
  },
  {
   "cell_type": "markdown",
   "metadata": {},
   "source": [
    "## A1. INITIAL STATISTICS"
   ]
  },
  {
   "cell_type": "markdown",
   "metadata": {},
   "source": [
    "___\n",
    "#### IMPORT LIBRARY"
   ]
  },
  {
   "cell_type": "code",
   "execution_count": 1,
   "metadata": {},
   "outputs": [],
   "source": [
    "import pandas as pd\n",
    "import numpy as np\n",
    "import glob\n",
    "import missingno as msno\n",
    "import string"
   ]
  },
  {
   "cell_type": "markdown",
   "metadata": {},
   "source": [
    "___\n",
    "#### NEWEST REVIEW DATASET"
   ]
  },
  {
   "cell_type": "code",
   "execution_count": 123,
   "metadata": {},
   "outputs": [
    {
     "data": {
      "text/html": [
       "<div>\n",
       "<style scoped>\n",
       "    .dataframe tbody tr th:only-of-type {\n",
       "        vertical-align: middle;\n",
       "    }\n",
       "\n",
       "    .dataframe tbody tr th {\n",
       "        vertical-align: top;\n",
       "    }\n",
       "\n",
       "    .dataframe thead th {\n",
       "        text-align: right;\n",
       "    }\n",
       "</style>\n",
       "<table border=\"1\" class=\"dataframe\">\n",
       "  <thead>\n",
       "    <tr style=\"text-align: right;\">\n",
       "      <th></th>\n",
       "      <th>appTitle</th>\n",
       "      <th>userName</th>\n",
       "      <th>date</th>\n",
       "      <th>score</th>\n",
       "      <th>text</th>\n",
       "      <th>category</th>\n",
       "    </tr>\n",
       "  </thead>\n",
       "  <tbody>\n",
       "    <tr>\n",
       "      <th>0</th>\n",
       "      <td>Photomath</td>\n",
       "      <td>NaN</td>\n",
       "      <td>March 8, 2019</td>\n",
       "      <td>5</td>\n",
       "      <td>nice</td>\n",
       "      <td>EDUCATION</td>\n",
       "    </tr>\n",
       "    <tr>\n",
       "      <th>1</th>\n",
       "      <td>Photomath</td>\n",
       "      <td>NaN</td>\n",
       "      <td>March 8, 2019</td>\n",
       "      <td>4</td>\n",
       "      <td>very helpful</td>\n",
       "      <td>EDUCATION</td>\n",
       "    </tr>\n",
       "  </tbody>\n",
       "</table>\n",
       "</div>"
      ],
      "text/plain": [
       "    appTitle userName           date  score          text   category\n",
       "0  Photomath      NaN  March 8, 2019      5          nice  EDUCATION\n",
       "1  Photomath      NaN  March 8, 2019      4  very helpful  EDUCATION"
      ]
     },
     "execution_count": 123,
     "metadata": {},
     "output_type": "execute_result"
    }
   ],
   "source": [
    "# Create the path to the data location\n",
    "path = r'newestreview'\n",
    "all_files = glob.glob(path + \"/*.csv\")\n",
    "\n",
    "# Loading the data file by file and create a column named \"category\"\n",
    "datalist = []\n",
    "for filename in all_files:\n",
    "    # extract the category name from the file name\n",
    "    start = filename.find('FREE')\n",
    "    end=filename.find('_apps.csv')\n",
    "    category = filename[start+5:end]\n",
    "    # Loading the data and attach it into the datalist\n",
    "    df = pd.read_csv(filename)\n",
    "    df['category']=category\n",
    "    datalist.append(df)\n",
    "    \n",
    "# Merger all the data\n",
    "frame = pd.concat(datalist, axis=0, ignore_index=True)\n",
    "frame.head(2)"
   ]
  },
  {
   "cell_type": "markdown",
   "metadata": {},
   "source": [
    "***\n",
    "#### OVERVIEW ABOUT DATASET"
   ]
  },
  {
   "cell_type": "code",
   "execution_count": 125,
   "metadata": {},
   "outputs": [
    {
     "name": "stdout",
     "output_type": "stream",
     "text": [
      "(2715303, 6)\n"
     ]
    }
   ],
   "source": [
    "print(frame.shape)"
   ]
  },
  {
   "cell_type": "markdown",
   "metadata": {},
   "source": [
    "***\n",
    "#### NULL VALUE REVIEW"
   ]
  },
  {
   "cell_type": "code",
   "execution_count": 126,
   "metadata": {},
   "outputs": [
    {
     "data": {
      "text/html": [
       "<div>\n",
       "<style scoped>\n",
       "    .dataframe tbody tr th:only-of-type {\n",
       "        vertical-align: middle;\n",
       "    }\n",
       "\n",
       "    .dataframe tbody tr th {\n",
       "        vertical-align: top;\n",
       "    }\n",
       "\n",
       "    .dataframe thead th {\n",
       "        text-align: right;\n",
       "    }\n",
       "</style>\n",
       "<table border=\"1\" class=\"dataframe\">\n",
       "  <thead>\n",
       "    <tr style=\"text-align: right;\">\n",
       "      <th></th>\n",
       "      <th>appTitle</th>\n",
       "      <th>userName</th>\n",
       "      <th>date</th>\n",
       "      <th>score</th>\n",
       "      <th>text</th>\n",
       "      <th>category</th>\n",
       "    </tr>\n",
       "  </thead>\n",
       "  <tbody>\n",
       "    <tr>\n",
       "      <th>NaN Percentage</th>\n",
       "      <td>0.126031</td>\n",
       "      <td>0.082498</td>\n",
       "      <td>0.0</td>\n",
       "      <td>0.0</td>\n",
       "      <td>0.000067</td>\n",
       "      <td>0.0</td>\n",
       "    </tr>\n",
       "    <tr>\n",
       "      <th>NaN #</th>\n",
       "      <td>342211.000000</td>\n",
       "      <td>224007.000000</td>\n",
       "      <td>0.0</td>\n",
       "      <td>0.0</td>\n",
       "      <td>182.000000</td>\n",
       "      <td>0.0</td>\n",
       "    </tr>\n",
       "  </tbody>\n",
       "</table>\n",
       "</div>"
      ],
      "text/plain": [
       "                     appTitle       userName  date  score        text  \\\n",
       "NaN Percentage       0.126031       0.082498   0.0    0.0    0.000067   \n",
       "NaN #           342211.000000  224007.000000   0.0    0.0  182.000000   \n",
       "\n",
       "                category  \n",
       "NaN Percentage       0.0  \n",
       "NaN #                0.0  "
      ]
     },
     "execution_count": 126,
     "metadata": {},
     "output_type": "execute_result"
    }
   ],
   "source": [
    "def countnull(x):\n",
    "    return np.sum(x.isnull())\n",
    "def pernull(x):\n",
    "    t=np.sum(x.isnull())\n",
    "    return t/(x.count()+t)\n",
    "Null_table=pd.DataFrame([frame.apply(pernull),frame.apply(countnull)],index=['NaN Percentage','NaN #'])\n",
    "Null_table"
   ]
  },
  {
   "cell_type": "markdown",
   "metadata": {},
   "source": [
    "#### DROP APPTITLE NAN"
   ]
  },
  {
   "cell_type": "code",
   "execution_count": 146,
   "metadata": {},
   "outputs": [],
   "source": [
    "frame.dropna(subset=['appTitle'], inplace=True)\n",
    "pd.DataFrame([frame.apply(pernull),frame.apply(countnull)],index=['NaN Percentage','NaN #'])\n"
   ]
  },
  {
   "cell_type": "code",
   "execution_count": 149,
   "metadata": {},
   "outputs": [
    {
     "data": {
      "text/plain": [
       "(2373092, 6)"
      ]
     },
     "execution_count": 149,
     "metadata": {},
     "output_type": "execute_result"
    }
   ],
   "source": [
    "frame.shape"
   ]
  },
  {
   "cell_type": "markdown",
   "metadata": {},
   "source": [
    "#### 1. Drop duplicates and record how many unique reviews are collected?"
   ]
  },
  {
   "cell_type": "code",
   "execution_count": 148,
   "metadata": {},
   "outputs": [
    {
     "name": "stdout",
     "output_type": "stream",
     "text": [
      "Number of duplicated review: 1231894\n",
      "Number of unique review in the data: 1141198\n"
     ]
    }
   ],
   "source": [
    "print(\"Number of duplicated review:\",np.sum(frame.duplicated()))\n",
    "frame1 = frame.drop_duplicates(subset=None, keep='first', inplace=False)\n",
    "answer1=len(frame1.index)\n",
    "print(\"Number of unique review in the data:\",answer1)"
   ]
  },
  {
   "cell_type": "markdown",
   "metadata": {},
   "source": [
    "#### NULL VALUE REVIEW\n",
    "\n"
   ]
  },
  {
   "cell_type": "code",
   "execution_count": 150,
   "metadata": {},
   "outputs": [
    {
     "data": {
      "text/html": [
       "<div>\n",
       "<style scoped>\n",
       "    .dataframe tbody tr th:only-of-type {\n",
       "        vertical-align: middle;\n",
       "    }\n",
       "\n",
       "    .dataframe tbody tr th {\n",
       "        vertical-align: top;\n",
       "    }\n",
       "\n",
       "    .dataframe thead th {\n",
       "        text-align: right;\n",
       "    }\n",
       "</style>\n",
       "<table border=\"1\" class=\"dataframe\">\n",
       "  <thead>\n",
       "    <tr style=\"text-align: right;\">\n",
       "      <th></th>\n",
       "      <th>appTitle</th>\n",
       "      <th>userName</th>\n",
       "      <th>date</th>\n",
       "      <th>score</th>\n",
       "      <th>text</th>\n",
       "      <th>category</th>\n",
       "    </tr>\n",
       "  </thead>\n",
       "  <tbody>\n",
       "    <tr>\n",
       "      <th>NaN Percentage</th>\n",
       "      <td>0.0</td>\n",
       "      <td>0.134333</td>\n",
       "      <td>0.0</td>\n",
       "      <td>0.0</td>\n",
       "      <td>0.000065</td>\n",
       "      <td>0.0</td>\n",
       "    </tr>\n",
       "    <tr>\n",
       "      <th>NaN #</th>\n",
       "      <td>0.0</td>\n",
       "      <td>153300.000000</td>\n",
       "      <td>0.0</td>\n",
       "      <td>0.0</td>\n",
       "      <td>74.000000</td>\n",
       "      <td>0.0</td>\n",
       "    </tr>\n",
       "  </tbody>\n",
       "</table>\n",
       "</div>"
      ],
      "text/plain": [
       "                appTitle       userName  date  score       text  category\n",
       "NaN Percentage       0.0       0.134333   0.0    0.0   0.000065       0.0\n",
       "NaN #                0.0  153300.000000   0.0    0.0  74.000000       0.0"
      ]
     },
     "execution_count": 150,
     "metadata": {},
     "output_type": "execute_result"
    }
   ],
   "source": [
    "pd.DataFrame([frame1.apply(pernull),frame1.apply(countnull)],index=['NaN Percentage','NaN #'])"
   ]
  },
  {
   "cell_type": "markdown",
   "metadata": {},
   "source": [
    "___\n",
    "#### 2. How many unique apps are in the dataset? "
   ]
  },
  {
   "cell_type": "code",
   "execution_count": 159,
   "metadata": {},
   "outputs": [
    {
     "name": "stdout",
     "output_type": "stream",
     "text": [
      "NUMBER UNIQUE APPS: 87\n"
     ]
    },
    {
     "name": "stderr",
     "output_type": "stream",
     "text": [
      "C:\\Users\\VINCENT PHAN\\Anaconda3\\lib\\site-packages\\ipykernel_launcher.py:2: SettingWithCopyWarning: \n",
      "A value is trying to be set on a copy of a slice from a DataFrame.\n",
      "Try using .loc[row_indexer,col_indexer] = value instead\n",
      "\n",
      "See the caveats in the documentation: http://pandas.pydata.org/pandas-docs/stable/indexing.html#indexing-view-versus-copy\n",
      "  \n"
     ]
    }
   ],
   "source": [
    "frame2=frame1\n",
    "frame2[\"appTitle_lower\"]=frame2['appTitle'].str.lower()\n",
    "answer2a=frame2['appTitle'].nunique()\n",
    "print(\"NUMBER UNIQUE APPS:\",answer2a)"
   ]
  },
  {
   "cell_type": "markdown",
   "metadata": {},
   "source": [
    "#### 2b. How many apps in each of the 8 specified app categories?\n",
    "#### 3. How many reviews exist in each of the eight app-categories"
   ]
  },
  {
   "cell_type": "code",
   "execution_count": 160,
   "metadata": {},
   "outputs": [
    {
     "data": {
      "text/html": [
       "<div>\n",
       "<style scoped>\n",
       "    .dataframe tbody tr th:only-of-type {\n",
       "        vertical-align: middle;\n",
       "    }\n",
       "\n",
       "    .dataframe tbody tr th {\n",
       "        vertical-align: top;\n",
       "    }\n",
       "\n",
       "    .dataframe thead th {\n",
       "        text-align: right;\n",
       "    }\n",
       "</style>\n",
       "<table border=\"1\" class=\"dataframe\">\n",
       "  <thead>\n",
       "    <tr style=\"text-align: right;\">\n",
       "      <th></th>\n",
       "      <th>Number_Apps_before_Test_Processing</th>\n",
       "      <th>Number_Review_before_Test_Processing</th>\n",
       "    </tr>\n",
       "    <tr>\n",
       "      <th>category</th>\n",
       "      <th></th>\n",
       "      <th></th>\n",
       "    </tr>\n",
       "  </thead>\n",
       "  <tbody>\n",
       "    <tr>\n",
       "      <th>EDUCATION</th>\n",
       "      <td>10</td>\n",
       "      <td>95916</td>\n",
       "    </tr>\n",
       "    <tr>\n",
       "      <th>ENTERTAINMENT</th>\n",
       "      <td>13</td>\n",
       "      <td>183518</td>\n",
       "    </tr>\n",
       "    <tr>\n",
       "      <th>FAMILY</th>\n",
       "      <td>10</td>\n",
       "      <td>125318</td>\n",
       "    </tr>\n",
       "    <tr>\n",
       "      <th>FINANCE</th>\n",
       "      <td>10</td>\n",
       "      <td>141158</td>\n",
       "    </tr>\n",
       "    <tr>\n",
       "      <th>GAME_ACTION</th>\n",
       "      <td>11</td>\n",
       "      <td>209497</td>\n",
       "    </tr>\n",
       "    <tr>\n",
       "      <th>HEALTH_AND_FITNESS</th>\n",
       "      <td>10</td>\n",
       "      <td>109865</td>\n",
       "    </tr>\n",
       "    <tr>\n",
       "      <th>LIFESTYLE</th>\n",
       "      <td>12</td>\n",
       "      <td>102945</td>\n",
       "    </tr>\n",
       "    <tr>\n",
       "      <th>MUSIC_AND_AUDIO</th>\n",
       "      <td>11</td>\n",
       "      <td>172981</td>\n",
       "    </tr>\n",
       "  </tbody>\n",
       "</table>\n",
       "</div>"
      ],
      "text/plain": [
       "                    Number_Apps_before_Test_Processing  \\\n",
       "category                                                 \n",
       "EDUCATION                                           10   \n",
       "ENTERTAINMENT                                       13   \n",
       "FAMILY                                              10   \n",
       "FINANCE                                             10   \n",
       "GAME_ACTION                                         11   \n",
       "HEALTH_AND_FITNESS                                  10   \n",
       "LIFESTYLE                                           12   \n",
       "MUSIC_AND_AUDIO                                     11   \n",
       "\n",
       "                    Number_Review_before_Test_Processing  \n",
       "category                                                  \n",
       "EDUCATION                                          95916  \n",
       "ENTERTAINMENT                                     183518  \n",
       "FAMILY                                            125318  \n",
       "FINANCE                                           141158  \n",
       "GAME_ACTION                                       209497  \n",
       "HEALTH_AND_FITNESS                                109865  \n",
       "LIFESTYLE                                         102945  \n",
       "MUSIC_AND_AUDIO                                   172981  "
      ]
     },
     "execution_count": 160,
     "metadata": {},
     "output_type": "execute_result"
    }
   ],
   "source": [
    "answer2b_3= frame2.groupby('category').agg({'appTitle_lower':'nunique','text':'size'})\n",
    "answer2b_3.columns = [\"Number_Apps_before_Test_Processing\",\"Number_Review_before_Test_Processing\"]\n",
    "answer2b_3"
   ]
  },
  {
   "cell_type": "markdown",
   "metadata": {},
   "source": [
    "___"
   ]
  },
  {
   "cell_type": "markdown",
   "metadata": {},
   "source": [
    "#### DETAIL REVIEW DATASET"
   ]
  },
  {
   "cell_type": "markdown",
   "metadata": {},
   "source": [
    "**Load Detail Review from load the detailreview from 2019-03-08 to 2019-04-21**"
   ]
  },
  {
   "cell_type": "code",
   "execution_count": 161,
   "metadata": {},
   "outputs": [
    {
     "data": {
      "text/html": [
       "<div>\n",
       "<style scoped>\n",
       "    .dataframe tbody tr th:only-of-type {\n",
       "        vertical-align: middle;\n",
       "    }\n",
       "\n",
       "    .dataframe tbody tr th {\n",
       "        vertical-align: top;\n",
       "    }\n",
       "\n",
       "    .dataframe thead th {\n",
       "        text-align: right;\n",
       "    }\n",
       "</style>\n",
       "<table border=\"1\" class=\"dataframe\">\n",
       "  <thead>\n",
       "    <tr style=\"text-align: right;\">\n",
       "      <th></th>\n",
       "      <th>appTitle</th>\n",
       "      <th>summary</th>\n",
       "      <th>installs</th>\n",
       "      <th>minInstalls</th>\n",
       "      <th>score</th>\n",
       "      <th>ratings</th>\n",
       "      <th>reviews</th>\n",
       "      <th>free</th>\n",
       "      <th>offersIAP</th>\n",
       "      <th>size</th>\n",
       "      <th>...</th>\n",
       "      <th>genreId</th>\n",
       "      <th>familyGenreId</th>\n",
       "      <th>contentRating</th>\n",
       "      <th>adSupported</th>\n",
       "      <th>released</th>\n",
       "      <th>updated</th>\n",
       "      <th>version</th>\n",
       "      <th>recentChanges</th>\n",
       "      <th>appId</th>\n",
       "      <th>url</th>\n",
       "    </tr>\n",
       "  </thead>\n",
       "  <tbody>\n",
       "    <tr>\n",
       "      <th>0</th>\n",
       "      <td>Duolingo: Learn Languages Free</td>\n",
       "      <td>Learn English, Spanish, French, German, Italia...</td>\n",
       "      <td>100,000,000+</td>\n",
       "      <td>100000000</td>\n",
       "      <td>4.71985</td>\n",
       "      <td>7258463</td>\n",
       "      <td>2788387</td>\n",
       "      <td>True</td>\n",
       "      <td>True</td>\n",
       "      <td>Varies with device</td>\n",
       "      <td>...</td>\n",
       "      <td>EDUCATION</td>\n",
       "      <td>FAMILY_EDUCATION</td>\n",
       "      <td>Everyone</td>\n",
       "      <td>True</td>\n",
       "      <td>May 29, 2013</td>\n",
       "      <td>1551998991000</td>\n",
       "      <td>Varies with device</td>\n",
       "      <td>Our mascot owl, Duo, is trading in his usual d...</td>\n",
       "      <td>com.duolingo</td>\n",
       "      <td>https://play.google.com/store/apps/details?id=...</td>\n",
       "    </tr>\n",
       "  </tbody>\n",
       "</table>\n",
       "<p>1 rows × 22 columns</p>\n",
       "</div>"
      ],
      "text/plain": [
       "                         appTitle  \\\n",
       "0  Duolingo: Learn Languages Free   \n",
       "\n",
       "                                             summary      installs  \\\n",
       "0  Learn English, Spanish, French, German, Italia...  100,000,000+   \n",
       "\n",
       "   minInstalls    score  ratings  reviews  free  offersIAP  \\\n",
       "0    100000000  4.71985  7258463  2788387  True       True   \n",
       "\n",
       "                 size  ...    genreId     familyGenreId contentRating  \\\n",
       "0  Varies with device  ...  EDUCATION  FAMILY_EDUCATION      Everyone   \n",
       "\n",
       "  adSupported      released        updated             version  \\\n",
       "0        True  May 29, 2013  1551998991000  Varies with device   \n",
       "\n",
       "                                       recentChanges         appId  \\\n",
       "0  Our mascot owl, Duo, is trading in his usual d...  com.duolingo   \n",
       "\n",
       "                                                 url  \n",
       "0  https://play.google.com/store/apps/details?id=...  \n",
       "\n",
       "[1 rows x 22 columns]"
      ]
     },
     "execution_count": 161,
     "metadata": {},
     "output_type": "execute_result"
    }
   ],
   "source": [
    "# Create the path to the data location\n",
    "path = r'detailreview1'\n",
    "all_files = glob.glob(path + \"/*.csv\")\n",
    "\n",
    "# Loading the data file by file \n",
    "datalist2 = []\n",
    "for filename in all_files:\n",
    "    # Loading the data without the header which is create after merging all the detail review files\n",
    "    df = pd.read_csv(filename,header=0,names=np.arange(0,43))\n",
    "    datalist2.append(df)     \n",
    "    \n",
    "# Merger all the data\n",
    "detailreview = pd.concat(datalist2, axis=0, ignore_index=True)\n",
    "detailreview=detailreview.iloc[:,0:22]\n",
    "names=['appTitle','summary','installs','minInstalls','score','ratings','reviews','free','offersIAP','size','androidVersionText','developerId','genreId','familyGenreId','contentRating','adSupported','released','updated','version','recentChanges','appId','url']\n",
    "detailreview.columns=names\n",
    "\n",
    "# Preview\n",
    "detailreview.head(1)"
   ]
  },
  {
   "cell_type": "markdown",
   "metadata": {},
   "source": [
    "**Load Detail Review from load the detailreview 2019-05-09**"
   ]
  },
  {
   "cell_type": "code",
   "execution_count": 162,
   "metadata": {},
   "outputs": [
    {
     "data": {
      "text/html": [
       "<div>\n",
       "<style scoped>\n",
       "    .dataframe tbody tr th:only-of-type {\n",
       "        vertical-align: middle;\n",
       "    }\n",
       "\n",
       "    .dataframe tbody tr th {\n",
       "        vertical-align: top;\n",
       "    }\n",
       "\n",
       "    .dataframe thead th {\n",
       "        text-align: right;\n",
       "    }\n",
       "</style>\n",
       "<table border=\"1\" class=\"dataframe\">\n",
       "  <thead>\n",
       "    <tr style=\"text-align: right;\">\n",
       "      <th></th>\n",
       "      <th>title</th>\n",
       "      <th>appId</th>\n",
       "      <th>url</th>\n",
       "      <th>icon</th>\n",
       "      <th>developer</th>\n",
       "      <th>developerId</th>\n",
       "      <th>priceText</th>\n",
       "      <th>free</th>\n",
       "      <th>summary</th>\n",
       "      <th>scoreText</th>\n",
       "    </tr>\n",
       "  </thead>\n",
       "  <tbody>\n",
       "    <tr>\n",
       "      <th>0</th>\n",
       "      <td>Duolingo: Learn Languages Free</td>\n",
       "      <td>Learn English, Spanish, French, German, Italia...</td>\n",
       "      <td>100,000,000+</td>\n",
       "      <td>100000000</td>\n",
       "      <td>4.71985</td>\n",
       "      <td>7258463</td>\n",
       "      <td>2788387</td>\n",
       "      <td>True</td>\n",
       "      <td>True</td>\n",
       "      <td>Varies with device</td>\n",
       "    </tr>\n",
       "  </tbody>\n",
       "</table>\n",
       "</div>"
      ],
      "text/plain": [
       "                            title  \\\n",
       "0  Duolingo: Learn Languages Free   \n",
       "\n",
       "                                               appId           url       icon  \\\n",
       "0  Learn English, Spanish, French, German, Italia...  100,000,000+  100000000   \n",
       "\n",
       "   developer  developerId  priceText  free  summary           scoreText  \n",
       "0    4.71985      7258463    2788387  True     True  Varies with device  "
      ]
     },
     "execution_count": 162,
     "metadata": {},
     "output_type": "execute_result"
    }
   ],
   "source": [
    "# Create the path to the data location\n",
    "path = r'detailreview2'\n",
    "all_files = glob.glob(path + \"/*.csv\")\n",
    "\n",
    "# Loading the data file by file \n",
    "datalist2 = []\n",
    "for filename in all_files:\n",
    "    # Loading the data without the header which is create after merging all the detail review files\n",
    "    df = pd.read_csv(filename,header=0,names=np.arange(0,21))\n",
    "    datalist2.append(df)     \n",
    "    \n",
    "# Merger all the data\n",
    "detailreview2 = pd.concat(datalist2, axis=0, ignore_index=True)\n",
    "detailreview2=detailreview.iloc[:,0:10]\n",
    "names=['title','appId','url','icon','developer','developerId','priceText','free','summary','scoreText']\n",
    "detailreview2.columns=names\n",
    "\n",
    "# Preview\n",
    "detailreview2.head(1)"
   ]
  },
  {
   "cell_type": "markdown",
   "metadata": {},
   "source": [
    "#### APPEND CONTENT RATING FROM DETAIL REVIEW TO NEWEST REVIEW DATA"
   ]
  },
  {
   "cell_type": "code",
   "execution_count": 163,
   "metadata": {},
   "outputs": [
    {
     "name": "stderr",
     "output_type": "stream",
     "text": [
      "C:\\Users\\VINCENT PHAN\\Anaconda3\\lib\\site-packages\\ipykernel_launcher.py:3: SettingWithCopyWarning: \n",
      "A value is trying to be set on a copy of a slice from a DataFrame.\n",
      "Try using .loc[row_indexer,col_indexer] = value instead\n",
      "\n",
      "See the caveats in the documentation: http://pandas.pydata.org/pandas-docs/stable/indexing.html#indexing-view-versus-copy\n",
      "  This is separate from the ipykernel package so we can avoid doing imports until\n"
     ]
    }
   ],
   "source": [
    "appTitle_CR=detailreview.drop_duplicates(subset ='appTitle',keep = 'first')[['appTitle','contentRating']]\n",
    "frame2_sub=frame2\n",
    "frame2_sub['contentRating']=frame2_sub['appTitle'].map(appTitle_CR.set_index('appTitle')['contentRating'])\n"
   ]
  },
  {
   "cell_type": "markdown",
   "metadata": {},
   "source": [
    "\n",
    "___\n",
    "#### 4. What are the different contentRating groups in each app-category?"
   ]
  },
  {
   "cell_type": "code",
   "execution_count": 269,
   "metadata": {},
   "outputs": [
    {
     "data": {
      "text/html": [
       "<div>\n",
       "<style scoped>\n",
       "    .dataframe tbody tr th:only-of-type {\n",
       "        vertical-align: middle;\n",
       "    }\n",
       "\n",
       "    .dataframe tbody tr th {\n",
       "        vertical-align: top;\n",
       "    }\n",
       "\n",
       "    .dataframe thead th {\n",
       "        text-align: right;\n",
       "    }\n",
       "</style>\n",
       "<table border=\"1\" class=\"dataframe\">\n",
       "  <thead>\n",
       "    <tr style=\"text-align: right;\">\n",
       "      <th></th>\n",
       "      <th>Content Rating</th>\n",
       "    </tr>\n",
       "    <tr>\n",
       "      <th>category</th>\n",
       "      <th></th>\n",
       "    </tr>\n",
       "  </thead>\n",
       "  <tbody>\n",
       "    <tr>\n",
       "      <th>EDUCATION</th>\n",
       "      <td>[Everyone]</td>\n",
       "    </tr>\n",
       "    <tr>\n",
       "      <th>ENTERTAINMENT</th>\n",
       "      <td>[Teen, Everyone, Mature 17+]</td>\n",
       "    </tr>\n",
       "    <tr>\n",
       "      <th>FAMILY</th>\n",
       "      <td>[Everyone 10+, Everyone]</td>\n",
       "    </tr>\n",
       "    <tr>\n",
       "      <th>FINANCE</th>\n",
       "      <td>[Everyone]</td>\n",
       "    </tr>\n",
       "    <tr>\n",
       "      <th>GAME_ACTION</th>\n",
       "      <td>[Everyone, Teen, Mature 17+]</td>\n",
       "    </tr>\n",
       "    <tr>\n",
       "      <th>HEALTH_AND_FITNESS</th>\n",
       "      <td>[Everyone]</td>\n",
       "    </tr>\n",
       "    <tr>\n",
       "      <th>LIFESTYLE</th>\n",
       "      <td>[Everyone, Mature 17+, Teen]</td>\n",
       "    </tr>\n",
       "    <tr>\n",
       "      <th>MUSIC_AND_AUDIO</th>\n",
       "      <td>[Teen, Everyone]</td>\n",
       "    </tr>\n",
       "  </tbody>\n",
       "</table>\n",
       "</div>"
      ],
      "text/plain": [
       "                                  Content Rating\n",
       "category                                        \n",
       "EDUCATION                             [Everyone]\n",
       "ENTERTAINMENT       [Teen, Everyone, Mature 17+]\n",
       "FAMILY                  [Everyone 10+, Everyone]\n",
       "FINANCE                               [Everyone]\n",
       "GAME_ACTION         [Everyone, Teen, Mature 17+]\n",
       "HEALTH_AND_FITNESS                    [Everyone]\n",
       "LIFESTYLE           [Everyone, Mature 17+, Teen]\n",
       "MUSIC_AND_AUDIO                 [Teen, Everyone]"
      ]
     },
     "execution_count": 269,
     "metadata": {},
     "output_type": "execute_result"
    }
   ],
   "source": [
    "answer4=pd.DataFrame(frame2_sub.groupby('category')['contentRating'].unique())\n",
    "answer4.columns=['Content Rating']\n",
    "answer4"
   ]
  },
  {
   "cell_type": "markdown",
   "metadata": {},
   "source": [
    "___\n",
    "\n",
    "#### 5. How many apps exist in each of these contentRating-sub-groups in each app-category?\n",
    "#### 6. How many reviews in each contentRating-sub-groups in each app-category"
   ]
  },
  {
   "cell_type": "code",
   "execution_count": 167,
   "metadata": {},
   "outputs": [
    {
     "data": {
      "text/html": [
       "<div>\n",
       "<style scoped>\n",
       "    .dataframe tbody tr th:only-of-type {\n",
       "        vertical-align: middle;\n",
       "    }\n",
       "\n",
       "    .dataframe tbody tr th {\n",
       "        vertical-align: top;\n",
       "    }\n",
       "\n",
       "    .dataframe thead th {\n",
       "        text-align: right;\n",
       "    }\n",
       "</style>\n",
       "<table border=\"1\" class=\"dataframe\">\n",
       "  <thead>\n",
       "    <tr style=\"text-align: right;\">\n",
       "      <th></th>\n",
       "      <th></th>\n",
       "      <th>Number_Apps_before_Test_Processing</th>\n",
       "      <th>Number_Review_before_Test_Processing</th>\n",
       "    </tr>\n",
       "    <tr>\n",
       "      <th>category</th>\n",
       "      <th>contentRating</th>\n",
       "      <th></th>\n",
       "      <th></th>\n",
       "    </tr>\n",
       "  </thead>\n",
       "  <tbody>\n",
       "    <tr>\n",
       "      <th>EDUCATION</th>\n",
       "      <th>Everyone</th>\n",
       "      <td>10</td>\n",
       "      <td>95916</td>\n",
       "    </tr>\n",
       "    <tr>\n",
       "      <th rowspan=\"3\" valign=\"top\">ENTERTAINMENT</th>\n",
       "      <th>Everyone</th>\n",
       "      <td>4</td>\n",
       "      <td>14377</td>\n",
       "    </tr>\n",
       "    <tr>\n",
       "      <th>Mature 17+</th>\n",
       "      <td>1</td>\n",
       "      <td>7278</td>\n",
       "    </tr>\n",
       "    <tr>\n",
       "      <th>Teen</th>\n",
       "      <td>8</td>\n",
       "      <td>161853</td>\n",
       "    </tr>\n",
       "    <tr>\n",
       "      <th rowspan=\"2\" valign=\"top\">FAMILY</th>\n",
       "      <th>Everyone</th>\n",
       "      <td>7</td>\n",
       "      <td>77211</td>\n",
       "    </tr>\n",
       "    <tr>\n",
       "      <th>Everyone 10+</th>\n",
       "      <td>3</td>\n",
       "      <td>48107</td>\n",
       "    </tr>\n",
       "    <tr>\n",
       "      <th>FINANCE</th>\n",
       "      <th>Everyone</th>\n",
       "      <td>10</td>\n",
       "      <td>141129</td>\n",
       "    </tr>\n",
       "    <tr>\n",
       "      <th rowspan=\"3\" valign=\"top\">GAME_ACTION</th>\n",
       "      <th>Everyone</th>\n",
       "      <td>5</td>\n",
       "      <td>87560</td>\n",
       "    </tr>\n",
       "    <tr>\n",
       "      <th>Mature 17+</th>\n",
       "      <td>2</td>\n",
       "      <td>29359</td>\n",
       "    </tr>\n",
       "    <tr>\n",
       "      <th>Teen</th>\n",
       "      <td>4</td>\n",
       "      <td>92574</td>\n",
       "    </tr>\n",
       "    <tr>\n",
       "      <th>HEALTH_AND_FITNESS</th>\n",
       "      <th>Everyone</th>\n",
       "      <td>10</td>\n",
       "      <td>109859</td>\n",
       "    </tr>\n",
       "    <tr>\n",
       "      <th rowspan=\"3\" valign=\"top\">LIFESTYLE</th>\n",
       "      <th>Everyone</th>\n",
       "      <td>10</td>\n",
       "      <td>78200</td>\n",
       "    </tr>\n",
       "    <tr>\n",
       "      <th>Mature 17+</th>\n",
       "      <td>1</td>\n",
       "      <td>21716</td>\n",
       "    </tr>\n",
       "    <tr>\n",
       "      <th>Teen</th>\n",
       "      <td>1</td>\n",
       "      <td>3012</td>\n",
       "    </tr>\n",
       "    <tr>\n",
       "      <th rowspan=\"2\" valign=\"top\">MUSIC_AND_AUDIO</th>\n",
       "      <th>Everyone</th>\n",
       "      <td>2</td>\n",
       "      <td>22754</td>\n",
       "    </tr>\n",
       "    <tr>\n",
       "      <th>Teen</th>\n",
       "      <td>9</td>\n",
       "      <td>150219</td>\n",
       "    </tr>\n",
       "  </tbody>\n",
       "</table>\n",
       "</div>"
      ],
      "text/plain": [
       "                                  Number_Apps_before_Test_Processing  \\\n",
       "category           contentRating                                       \n",
       "EDUCATION          Everyone                                       10   \n",
       "ENTERTAINMENT      Everyone                                        4   \n",
       "                   Mature 17+                                      1   \n",
       "                   Teen                                            8   \n",
       "FAMILY             Everyone                                        7   \n",
       "                   Everyone 10+                                    3   \n",
       "FINANCE            Everyone                                       10   \n",
       "GAME_ACTION        Everyone                                        5   \n",
       "                   Mature 17+                                      2   \n",
       "                   Teen                                            4   \n",
       "HEALTH_AND_FITNESS Everyone                                       10   \n",
       "LIFESTYLE          Everyone                                       10   \n",
       "                   Mature 17+                                      1   \n",
       "                   Teen                                            1   \n",
       "MUSIC_AND_AUDIO    Everyone                                        2   \n",
       "                   Teen                                            9   \n",
       "\n",
       "                                  Number_Review_before_Test_Processing  \n",
       "category           contentRating                                        \n",
       "EDUCATION          Everyone                                      95916  \n",
       "ENTERTAINMENT      Everyone                                      14377  \n",
       "                   Mature 17+                                     7278  \n",
       "                   Teen                                         161853  \n",
       "FAMILY             Everyone                                      77211  \n",
       "                   Everyone 10+                                  48107  \n",
       "FINANCE            Everyone                                     141129  \n",
       "GAME_ACTION        Everyone                                      87560  \n",
       "                   Mature 17+                                    29359  \n",
       "                   Teen                                          92574  \n",
       "HEALTH_AND_FITNESS Everyone                                     109859  \n",
       "LIFESTYLE          Everyone                                      78200  \n",
       "                   Mature 17+                                    21716  \n",
       "                   Teen                                           3012  \n",
       "MUSIC_AND_AUDIO    Everyone                                      22754  \n",
       "                   Teen                                         150219  "
      ]
     },
     "execution_count": 167,
     "metadata": {},
     "output_type": "execute_result"
    }
   ],
   "source": [
    "answer5_6=pd.DataFrame(frame2_sub.groupby(['category','contentRating']).agg({'appTitle_lower':'nunique','text':'count'}))\n",
    "answer5_6.columns=[\"Number_Apps_before_Test_Processing\",\"Number_Review_before_Test_Processing\"]\n",
    "answer5_6"
   ]
  },
  {
   "cell_type": "markdown",
   "metadata": {},
   "source": [
    "___\n",
    "### A2. TEXT PROCESSING"
   ]
  },
  {
   "cell_type": "markdown",
   "metadata": {},
   "source": [
    "#### CREATE COLUMN TO STORE THE ORIGINAL REVIEW"
   ]
  },
  {
   "cell_type": "code",
   "execution_count": 168,
   "metadata": {
    "scrolled": false
   },
   "outputs": [
    {
     "name": "stderr",
     "output_type": "stream",
     "text": [
      "C:\\Users\\VINCENT PHAN\\Anaconda3\\lib\\site-packages\\ipykernel_launcher.py:1: SettingWithCopyWarning: \n",
      "A value is trying to be set on a copy of a slice from a DataFrame.\n",
      "Try using .loc[row_indexer,col_indexer] = value instead\n",
      "\n",
      "See the caveats in the documentation: http://pandas.pydata.org/pandas-docs/stable/indexing.html#indexing-view-versus-copy\n",
      "  \"\"\"Entry point for launching an IPython kernel.\n",
      "C:\\Users\\VINCENT PHAN\\Anaconda3\\lib\\site-packages\\ipykernel_launcher.py:2: SettingWithCopyWarning: \n",
      "A value is trying to be set on a copy of a slice from a DataFrame.\n",
      "Try using .loc[row_indexer,col_indexer] = value instead\n",
      "\n",
      "See the caveats in the documentation: http://pandas.pydata.org/pandas-docs/stable/indexing.html#indexing-view-versus-copy\n",
      "  \n"
     ]
    }
   ],
   "source": [
    "frame2['text']=frame2['text'].astype(str)\n",
    "frame2['text_org']=frame2['text']\n"
   ]
  },
  {
   "cell_type": "markdown",
   "metadata": {},
   "source": [
    "___\n",
    "#### REMOVING PUNCTUATION AND NON-ASCII CHARACTERS"
   ]
  },
  {
   "cell_type": "code",
   "execution_count": 169,
   "metadata": {},
   "outputs": [
    {
     "name": "stderr",
     "output_type": "stream",
     "text": [
      "C:\\Users\\VINCENT PHAN\\Anaconda3\\lib\\site-packages\\ipykernel_launcher.py:2: SettingWithCopyWarning: \n",
      "A value is trying to be set on a copy of a slice from a DataFrame.\n",
      "Try using .loc[row_indexer,col_indexer] = value instead\n",
      "\n",
      "See the caveats in the documentation: http://pandas.pydata.org/pandas-docs/stable/indexing.html#indexing-view-versus-copy\n",
      "  \n",
      "C:\\Users\\VINCENT PHAN\\Anaconda3\\lib\\site-packages\\ipykernel_launcher.py:4: SettingWithCopyWarning: \n",
      "A value is trying to be set on a copy of a slice from a DataFrame.\n",
      "Try using .loc[row_indexer,col_indexer] = value instead\n",
      "\n",
      "See the caveats in the documentation: http://pandas.pydata.org/pandas-docs/stable/indexing.html#indexing-view-versus-copy\n",
      "  after removing the cwd from sys.path.\n"
     ]
    }
   ],
   "source": [
    "# remove non-ASCII\n",
    "frame2['text'] = frame2['text'].str.replace('[^\\x00-\\x7F]','')\n",
    "# remove punctuation\n",
    "frame2['text'] = frame2['text'].str.replace('[{}]'.format(string.punctuation),'')\n"
   ]
  },
  {
   "cell_type": "markdown",
   "metadata": {},
   "source": [
    "#### REMOVE MULTIPLE CHARACTERS OCCURING MORE THAN 2 TIMES"
   ]
  },
  {
   "cell_type": "code",
   "execution_count": 170,
   "metadata": {},
   "outputs": [
    {
     "name": "stderr",
     "output_type": "stream",
     "text": [
      "C:\\Users\\VINCENT PHAN\\Anaconda3\\lib\\site-packages\\ipykernel_launcher.py:4: SettingWithCopyWarning: \n",
      "A value is trying to be set on a copy of a slice from a DataFrame.\n",
      "Try using .loc[row_indexer,col_indexer] = value instead\n",
      "\n",
      "See the caveats in the documentation: http://pandas.pydata.org/pandas-docs/stable/indexing.html#indexing-view-versus-copy\n",
      "  after removing the cwd from sys.path.\n"
     ]
    }
   ],
   "source": [
    "import re\n",
    "def replaceRepeat(x):\n",
    "    return re.sub(r'([a-z])\\1{2,}', r'\\1\\1', x)\n",
    "frame2['text']= frame2['text'].map(replaceRepeat)\n"
   ]
  },
  {
   "cell_type": "markdown",
   "metadata": {},
   "source": [
    "#### REMOVE THE REVIEWS HAVING TWO OR LESS WORDS"
   ]
  },
  {
   "cell_type": "code",
   "execution_count": 171,
   "metadata": {},
   "outputs": [],
   "source": [
    "def countword(x):\n",
    "    return len(x.split(\" \")) \n",
    "shortreview_index = frame2[frame2['text'].map(countword)<3].index.tolist()"
   ]
  },
  {
   "cell_type": "code",
   "execution_count": 172,
   "metadata": {},
   "outputs": [],
   "source": [
    "frame3=frame2.drop(shortreview_index)"
   ]
  },
  {
   "cell_type": "code",
   "execution_count": 173,
   "metadata": {},
   "outputs": [],
   "source": [
    "frame3.to_csv(\"newestdata_with_nonEng.csv\")\n"
   ]
  },
  {
   "cell_type": "code",
   "execution_count": 174,
   "metadata": {},
   "outputs": [
    {
     "data": {
      "text/plain": [
       "(759572, 9)"
      ]
     },
     "execution_count": 174,
     "metadata": {},
     "output_type": "execute_result"
    }
   ],
   "source": [
    "frame3.shape"
   ]
  },
  {
   "cell_type": "code",
   "execution_count": 271,
   "metadata": {},
   "outputs": [
    {
     "data": {
      "text/plain": [
       "(1141199, 9)"
      ]
     },
     "execution_count": 271,
     "metadata": {},
     "output_type": "execute_result"
    }
   ],
   "source": [
    "frame2.shape"
   ]
  },
  {
   "cell_type": "code",
   "execution_count": 273,
   "metadata": {},
   "outputs": [
    {
     "data": {
      "text/plain": [
       "(2373092, 6)"
      ]
     },
     "execution_count": 273,
     "metadata": {},
     "output_type": "execute_result"
    }
   ],
   "source": [
    "frame.shape"
   ]
  },
  {
   "cell_type": "markdown",
   "metadata": {},
   "source": [
    "#### REMOVE NON ENGLISH WORDS"
   ]
  },
  {
   "cell_type": "markdown",
   "metadata": {},
   "source": [
    "**Due to low speed laptop the remove-non-English reviews are implemented in Google Colab. The code below is used to detect the non English words**"
   ]
  },
  {
   "cell_type": "code",
   "execution_count": null,
   "metadata": {},
   "outputs": [],
   "source": [
    "import langid as ld\n",
    "def enDect(x):\n",
    "    return ld.classify(x)[0] !='en'\n",
    "nonEn_index = frame3[frame3['text'].map(enDect)==True].index.tolist()\n",
    "#frame4=frame3.drop(nonEn_index)"
   ]
  },
  {
   "cell_type": "code",
   "execution_count": 175,
   "metadata": {},
   "outputs": [
    {
     "data": {
      "text/html": [
       "<div>\n",
       "<style scoped>\n",
       "    .dataframe tbody tr th:only-of-type {\n",
       "        vertical-align: middle;\n",
       "    }\n",
       "\n",
       "    .dataframe tbody tr th {\n",
       "        vertical-align: top;\n",
       "    }\n",
       "\n",
       "    .dataframe thead th {\n",
       "        text-align: right;\n",
       "    }\n",
       "</style>\n",
       "<table border=\"1\" class=\"dataframe\">\n",
       "  <thead>\n",
       "    <tr style=\"text-align: right;\">\n",
       "      <th></th>\n",
       "      <th>appTitle</th>\n",
       "      <th>userName</th>\n",
       "      <th>date</th>\n",
       "      <th>score</th>\n",
       "      <th>text</th>\n",
       "      <th>category</th>\n",
       "      <th>appTitle_lower</th>\n",
       "      <th>text_org</th>\n",
       "    </tr>\n",
       "    <tr>\n",
       "      <th>index</th>\n",
       "      <th></th>\n",
       "      <th></th>\n",
       "      <th></th>\n",
       "      <th></th>\n",
       "      <th></th>\n",
       "      <th></th>\n",
       "      <th></th>\n",
       "      <th></th>\n",
       "    </tr>\n",
       "  </thead>\n",
       "  <tbody>\n",
       "    <tr>\n",
       "      <th>2</th>\n",
       "      <td>Photomath</td>\n",
       "      <td>NaN</td>\n",
       "      <td>March 8, 2019</td>\n",
       "      <td>5</td>\n",
       "      <td>Great App Detailed answers Understandable answers</td>\n",
       "      <td>EDUCATION</td>\n",
       "      <td>photomath</td>\n",
       "      <td>Great App. Detailed answers. Understandable an...</td>\n",
       "    </tr>\n",
       "    <tr>\n",
       "      <th>6</th>\n",
       "      <td>Photomath</td>\n",
       "      <td>אוביידו אדריאנה</td>\n",
       "      <td>March 8, 2019</td>\n",
       "      <td>5</td>\n",
       "      <td>Great tool for learning math I love it</td>\n",
       "      <td>EDUCATION</td>\n",
       "      <td>photomath</td>\n",
       "      <td>Great tool for learning math, I love it!</td>\n",
       "    </tr>\n",
       "    <tr>\n",
       "      <th>9</th>\n",
       "      <td>Photomath</td>\n",
       "      <td>Kaleb Wallis</td>\n",
       "      <td>March 8, 2019</td>\n",
       "      <td>5</td>\n",
       "      <td>great if your in school or have homework</td>\n",
       "      <td>EDUCATION</td>\n",
       "      <td>photomath</td>\n",
       "      <td>great if your in school or have homework</td>\n",
       "    </tr>\n",
       "    <tr>\n",
       "      <th>10</th>\n",
       "      <td>Photomath</td>\n",
       "      <td>juana</td>\n",
       "      <td>March 8, 2019</td>\n",
       "      <td>4</td>\n",
       "      <td>It is working amazing for me Now i love to fin...</td>\n",
       "      <td>EDUCATION</td>\n",
       "      <td>photomath</td>\n",
       "      <td>It is working amazing for me!!! Now i love to ...</td>\n",
       "    </tr>\n",
       "    <tr>\n",
       "      <th>11</th>\n",
       "      <td>Photomath</td>\n",
       "      <td>Duje Basic</td>\n",
       "      <td>March 8, 2019</td>\n",
       "      <td>5</td>\n",
       "      <td>really great and you have all the explanations...</td>\n",
       "      <td>EDUCATION</td>\n",
       "      <td>photomath</td>\n",
       "      <td>really great and you have all the explanations...</td>\n",
       "    </tr>\n",
       "    <tr>\n",
       "      <th>13</th>\n",
       "      <td>Photomath</td>\n",
       "      <td>NaN</td>\n",
       "      <td>March 8, 2019</td>\n",
       "      <td>5</td>\n",
       "      <td>IN LOVE WITH THIS APP YOU HELPED A LOT  THANKYOU</td>\n",
       "      <td>EDUCATION</td>\n",
       "      <td>photomath</td>\n",
       "      <td>IN LOVE WITH THIS APP. YOU HELPED A LOT . THAN...</td>\n",
       "    </tr>\n",
       "    <tr>\n",
       "      <th>17</th>\n",
       "      <td>Photomath</td>\n",
       "      <td>The Hanika Homestead</td>\n",
       "      <td>March 8, 2019</td>\n",
       "      <td>5</td>\n",
       "      <td>Very helpful for correcting papers or doing a ...</td>\n",
       "      <td>EDUCATION</td>\n",
       "      <td>photomath</td>\n",
       "      <td>Very helpful for correcting papers, or doing a...</td>\n",
       "    </tr>\n",
       "    <tr>\n",
       "      <th>18</th>\n",
       "      <td>Photomath</td>\n",
       "      <td>NaN</td>\n",
       "      <td>March 8, 2019</td>\n",
       "      <td>4</td>\n",
       "      <td>can this app help with university maths</td>\n",
       "      <td>EDUCATION</td>\n",
       "      <td>photomath</td>\n",
       "      <td>can this app help with university maths?</td>\n",
       "    </tr>\n",
       "    <tr>\n",
       "      <th>19</th>\n",
       "      <td>Photomath</td>\n",
       "      <td>Tiffany Hohman</td>\n",
       "      <td>March 8, 2019</td>\n",
       "      <td>5</td>\n",
       "      <td>Photo math is AWESOME</td>\n",
       "      <td>EDUCATION</td>\n",
       "      <td>photomath</td>\n",
       "      <td>Photo math is AWESOME!!!</td>\n",
       "    </tr>\n",
       "    <tr>\n",
       "      <th>20</th>\n",
       "      <td>Photomath</td>\n",
       "      <td>Tahseen Ameen</td>\n",
       "      <td>March 8, 2019</td>\n",
       "      <td>4</td>\n",
       "      <td>it is very nice  Easy to solve problens</td>\n",
       "      <td>EDUCATION</td>\n",
       "      <td>photomath</td>\n",
       "      <td>it is very nice . Easy to solve problens</td>\n",
       "    </tr>\n",
       "    <tr>\n",
       "      <th>22</th>\n",
       "      <td>Photomath</td>\n",
       "      <td>NaN</td>\n",
       "      <td>March 8, 2019</td>\n",
       "      <td>5</td>\n",
       "      <td>intelligent mathematical software that underst...</td>\n",
       "      <td>EDUCATION</td>\n",
       "      <td>photomath</td>\n",
       "      <td>intelligent mathematical software that underst...</td>\n",
       "    </tr>\n",
       "    <tr>\n",
       "      <th>25</th>\n",
       "      <td>Photomath</td>\n",
       "      <td>NaN</td>\n",
       "      <td>March 8, 2019</td>\n",
       "      <td>4</td>\n",
       "      <td>helps good with any problem</td>\n",
       "      <td>EDUCATION</td>\n",
       "      <td>photomath</td>\n",
       "      <td>helps good with any problem</td>\n",
       "    </tr>\n",
       "    <tr>\n",
       "      <th>27</th>\n",
       "      <td>Photomath</td>\n",
       "      <td>NaN</td>\n",
       "      <td>March 8, 2019</td>\n",
       "      <td>5</td>\n",
       "      <td>it is very easy to use and it works offline</td>\n",
       "      <td>EDUCATION</td>\n",
       "      <td>photomath</td>\n",
       "      <td>it is very easy to use, and it works offline</td>\n",
       "    </tr>\n",
       "    <tr>\n",
       "      <th>28</th>\n",
       "      <td>Photomath</td>\n",
       "      <td>Minnie</td>\n",
       "      <td>March 8, 2019</td>\n",
       "      <td>5</td>\n",
       "      <td>This is an awesome app It has helped me to hel...</td>\n",
       "      <td>EDUCATION</td>\n",
       "      <td>photomath</td>\n",
       "      <td>This is an awesome app. It has helped me to he...</td>\n",
       "    </tr>\n",
       "    <tr>\n",
       "      <th>29</th>\n",
       "      <td>Photomath</td>\n",
       "      <td>NaN</td>\n",
       "      <td>March 8, 2019</td>\n",
       "      <td>4</td>\n",
       "      <td>Helpful N Reliable</td>\n",
       "      <td>EDUCATION</td>\n",
       "      <td>photomath</td>\n",
       "      <td>Helpful N Reliable</td>\n",
       "    </tr>\n",
       "    <tr>\n",
       "      <th>32</th>\n",
       "      <td>Photomath</td>\n",
       "      <td>SHIVAM AWASTHI</td>\n",
       "      <td>March 8, 2019</td>\n",
       "      <td>5</td>\n",
       "      <td></td>\n",
       "      <td>EDUCATION</td>\n",
       "      <td>photomath</td>\n",
       "      <td>बहुत ही उपयोगी ऐप्प हैं सभी लोगो के लिए ।</td>\n",
       "    </tr>\n",
       "    <tr>\n",
       "      <th>34</th>\n",
       "      <td>Photomath</td>\n",
       "      <td>joshua raj</td>\n",
       "      <td>March 8, 2019</td>\n",
       "      <td>5</td>\n",
       "      <td>this is genius</td>\n",
       "      <td>EDUCATION</td>\n",
       "      <td>photomath</td>\n",
       "      <td>this is genius!</td>\n",
       "    </tr>\n",
       "    <tr>\n",
       "      <th>35</th>\n",
       "      <td>Photomath</td>\n",
       "      <td>anfal Bhai</td>\n",
       "      <td>March 8, 2019</td>\n",
       "      <td>5</td>\n",
       "      <td>really its very fasti like this appits too good</td>\n",
       "      <td>EDUCATION</td>\n",
       "      <td>photomath</td>\n",
       "      <td>really ....it's very fast.......i like this ap...</td>\n",
       "    </tr>\n",
       "    <tr>\n",
       "      <th>36</th>\n",
       "      <td>Photomath</td>\n",
       "      <td>NaN</td>\n",
       "      <td>March 8, 2019</td>\n",
       "      <td>4</td>\n",
       "      <td>help full app</td>\n",
       "      <td>EDUCATION</td>\n",
       "      <td>photomath</td>\n",
       "      <td>help full app</td>\n",
       "    </tr>\n",
       "    <tr>\n",
       "      <th>38</th>\n",
       "      <td>Photomath</td>\n",
       "      <td>sjiano thegeek</td>\n",
       "      <td>March 8, 2019</td>\n",
       "      <td>4</td>\n",
       "      <td>Brilliant software still a little ways to go w...</td>\n",
       "      <td>EDUCATION</td>\n",
       "      <td>photomath</td>\n",
       "      <td>Brilliant software still a little ways to go w...</td>\n",
       "    </tr>\n",
       "    <tr>\n",
       "      <th>40</th>\n",
       "      <td>Remind: School Communication</td>\n",
       "      <td>Ronesheia Bates</td>\n",
       "      <td>March 8, 2019</td>\n",
       "      <td>2</td>\n",
       "      <td>Characters are limited which is a big problem ...</td>\n",
       "      <td>EDUCATION</td>\n",
       "      <td>remind: school communication</td>\n",
       "      <td>Characters are limited, which is a big problem...</td>\n",
       "    </tr>\n",
       "    <tr>\n",
       "      <th>41</th>\n",
       "      <td>Remind: School Communication</td>\n",
       "      <td>ashley beauregard</td>\n",
       "      <td>March 8, 2019</td>\n",
       "      <td>5</td>\n",
       "      <td>great and helpful app for school</td>\n",
       "      <td>EDUCATION</td>\n",
       "      <td>remind: school communication</td>\n",
       "      <td>great and helpful app for school</td>\n",
       "    </tr>\n",
       "    <tr>\n",
       "      <th>42</th>\n",
       "      <td>Remind: School Communication</td>\n",
       "      <td>Carleigh R.</td>\n",
       "      <td>March 8, 2019</td>\n",
       "      <td>5</td>\n",
       "      <td>Helps me keep up with events at school</td>\n",
       "      <td>EDUCATION</td>\n",
       "      <td>remind: school communication</td>\n",
       "      <td>Helps me keep up with events at school.</td>\n",
       "    </tr>\n",
       "    <tr>\n",
       "      <th>43</th>\n",
       "      <td>Remind: School Communication</td>\n",
       "      <td>NaN</td>\n",
       "      <td>March 8, 2019</td>\n",
       "      <td>5</td>\n",
       "      <td>i loove this app i enjoy being able to have an...</td>\n",
       "      <td>EDUCATION</td>\n",
       "      <td>remind: school communication</td>\n",
       "      <td>i looove this app. i enjoy being able to have ...</td>\n",
       "    </tr>\n",
       "    <tr>\n",
       "      <th>44</th>\n",
       "      <td>Remind: School Communication</td>\n",
       "      <td>Erik Wernau</td>\n",
       "      <td>March 8, 2019</td>\n",
       "      <td>4</td>\n",
       "      <td>Great for small groups Would be better if the ...</td>\n",
       "      <td>EDUCATION</td>\n",
       "      <td>remind: school communication</td>\n",
       "      <td>Great for small groups. Would be better if the...</td>\n",
       "    </tr>\n",
       "    <tr>\n",
       "      <th>48</th>\n",
       "      <td>Remind: School Communication</td>\n",
       "      <td>Meet Khatiwala</td>\n",
       "      <td>March 8, 2019</td>\n",
       "      <td>2</td>\n",
       "      <td>Big bug experienced in case of receiving app n...</td>\n",
       "      <td>EDUCATION</td>\n",
       "      <td>remind: school communication</td>\n",
       "      <td>Big bug experienced in case of receiving app n...</td>\n",
       "    </tr>\n",
       "    <tr>\n",
       "      <th>49</th>\n",
       "      <td>Remind: School Communication</td>\n",
       "      <td>Annette Martinez</td>\n",
       "      <td>March 8, 2019</td>\n",
       "      <td>4</td>\n",
       "      <td>good app to communicate with teachers</td>\n",
       "      <td>EDUCATION</td>\n",
       "      <td>remind: school communication</td>\n",
       "      <td>good app to communicate with teachers</td>\n",
       "    </tr>\n",
       "    <tr>\n",
       "      <th>50</th>\n",
       "      <td>Remind: School Communication</td>\n",
       "      <td>Kelly Katzmann</td>\n",
       "      <td>March 8, 2019</td>\n",
       "      <td>5</td>\n",
       "      <td>Quick easy and efficient Helps out when i cant...</td>\n",
       "      <td>EDUCATION</td>\n",
       "      <td>remind: school communication</td>\n",
       "      <td>Quick, easy, and efficient! Helps out when i c...</td>\n",
       "    </tr>\n",
       "    <tr>\n",
       "      <th>51</th>\n",
       "      <td>Remind: School Communication</td>\n",
       "      <td>Ursula Tendong</td>\n",
       "      <td>March 8, 2019</td>\n",
       "      <td>5</td>\n",
       "      <td>good tell when is not school hours yet</td>\n",
       "      <td>EDUCATION</td>\n",
       "      <td>remind: school communication</td>\n",
       "      <td>good tell when is not school hours yet.</td>\n",
       "    </tr>\n",
       "    <tr>\n",
       "      <th>52</th>\n",
       "      <td>Remind: School Communication</td>\n",
       "      <td>kolby michalski</td>\n",
       "      <td>March 8, 2019</td>\n",
       "      <td>1</td>\n",
       "      <td>my phone number was added randomly to a school...</td>\n",
       "      <td>EDUCATION</td>\n",
       "      <td>remind: school communication</td>\n",
       "      <td>my phone number was added randomly to a school...</td>\n",
       "    </tr>\n",
       "    <tr>\n",
       "      <th>...</th>\n",
       "      <td>...</td>\n",
       "      <td>...</td>\n",
       "      <td>...</td>\n",
       "      <td>...</td>\n",
       "      <td>...</td>\n",
       "      <td>...</td>\n",
       "      <td>...</td>\n",
       "      <td>...</td>\n",
       "    </tr>\n",
       "    <tr>\n",
       "      <th>2715252</th>\n",
       "      <td>iHeartRadio - Free Music, Radio &amp; Podcasts</td>\n",
       "      <td>Jessie Provenza</td>\n",
       "      <td>April 28, 2019</td>\n",
       "      <td>1</td>\n",
       "      <td>I have an I heart account my tablet was restor...</td>\n",
       "      <td>MUSIC_AND_AUDIO</td>\n",
       "      <td>iheartradio - free music, radio &amp; podcasts</td>\n",
       "      <td>I have an I heart account. my tablet was resto...</td>\n",
       "    </tr>\n",
       "    <tr>\n",
       "      <th>2715253</th>\n",
       "      <td>iHeartRadio - Free Music, Radio &amp; Podcasts</td>\n",
       "      <td>Sonia/ just me Ramos</td>\n",
       "      <td>April 28, 2019</td>\n",
       "      <td>5</td>\n",
       "      <td>it was really helpful</td>\n",
       "      <td>MUSIC_AND_AUDIO</td>\n",
       "      <td>iheartradio - free music, radio &amp; podcasts</td>\n",
       "      <td>it was really helpful</td>\n",
       "    </tr>\n",
       "    <tr>\n",
       "      <th>2715255</th>\n",
       "      <td>iHeartRadio - Free Music, Radio &amp; Podcasts</td>\n",
       "      <td>Teri Kurkowski</td>\n",
       "      <td>April 28, 2019</td>\n",
       "      <td>4</td>\n",
       "      <td>I like listening to this I hate the pop ups if...</td>\n",
       "      <td>MUSIC_AND_AUDIO</td>\n",
       "      <td>iheartradio - free music, radio &amp; podcasts</td>\n",
       "      <td>I like listening to this I hate the pop ups if...</td>\n",
       "    </tr>\n",
       "    <tr>\n",
       "      <th>2715257</th>\n",
       "      <td>iHeartRadio - Free Music, Radio &amp; Podcasts</td>\n",
       "      <td>Kristin Foster</td>\n",
       "      <td>April 28, 2019</td>\n",
       "      <td>5</td>\n",
       "      <td>Ive broadened my music interests because this ...</td>\n",
       "      <td>MUSIC_AND_AUDIO</td>\n",
       "      <td>iheartradio - free music, radio &amp; podcasts</td>\n",
       "      <td>I've broadened my music interests because this...</td>\n",
       "    </tr>\n",
       "    <tr>\n",
       "      <th>2715258</th>\n",
       "      <td>iHeartRadio - Free Music, Radio &amp; Podcasts</td>\n",
       "      <td>Darla Goar</td>\n",
       "      <td>April 28, 2019</td>\n",
       "      <td>5</td>\n",
       "      <td>So amazing to have an app that allows a listen...</td>\n",
       "      <td>MUSIC_AND_AUDIO</td>\n",
       "      <td>iheartradio - free music, radio &amp; podcasts</td>\n",
       "      <td>So amazing to have an app that allows a listen...</td>\n",
       "    </tr>\n",
       "    <tr>\n",
       "      <th>2715259</th>\n",
       "      <td>iHeartRadio - Free Music, Radio &amp; Podcasts</td>\n",
       "      <td>Antony Marsden</td>\n",
       "      <td>April 28, 2019</td>\n",
       "      <td>2</td>\n",
       "      <td>sick of it constantly dropping out when connec...</td>\n",
       "      <td>MUSIC_AND_AUDIO</td>\n",
       "      <td>iheartradio - free music, radio &amp; podcasts</td>\n",
       "      <td>sick of it constantly dropping out when connec...</td>\n",
       "    </tr>\n",
       "    <tr>\n",
       "      <th>2715261</th>\n",
       "      <td>iHeartRadio - Free Music, Radio &amp; Podcasts</td>\n",
       "      <td>Jonathan jeffrey</td>\n",
       "      <td>April 28, 2019</td>\n",
       "      <td>5</td>\n",
       "      <td>I love listening to my favorite station alt 104 9</td>\n",
       "      <td>MUSIC_AND_AUDIO</td>\n",
       "      <td>iheartradio - free music, radio &amp; podcasts</td>\n",
       "      <td>I love listening to my favorite station, alt 1...</td>\n",
       "    </tr>\n",
       "    <tr>\n",
       "      <th>2715262</th>\n",
       "      <td>iHeartRadio - Free Music, Radio &amp; Podcasts</td>\n",
       "      <td>IamBanana 1002</td>\n",
       "      <td>April 28, 2019</td>\n",
       "      <td>5</td>\n",
       "      <td>is very good</td>\n",
       "      <td>MUSIC_AND_AUDIO</td>\n",
       "      <td>iheartradio - free music, radio &amp; podcasts</td>\n",
       "      <td>is very good</td>\n",
       "    </tr>\n",
       "    <tr>\n",
       "      <th>2715263</th>\n",
       "      <td>SoundCloud - Music &amp; Audio</td>\n",
       "      <td>Hey Nerd</td>\n",
       "      <td>May 3, 2019</td>\n",
       "      <td>5</td>\n",
       "      <td>This is</td>\n",
       "      <td>MUSIC_AND_AUDIO</td>\n",
       "      <td>soundcloud - music &amp; audio</td>\n",
       "      <td>This is 😩👌</td>\n",
       "    </tr>\n",
       "    <tr>\n",
       "      <th>2715265</th>\n",
       "      <td>SoundCloud - Music &amp; Audio</td>\n",
       "      <td>Dinesh Tharaka</td>\n",
       "      <td>May 3, 2019</td>\n",
       "      <td>5</td>\n",
       "      <td>super app its free</td>\n",
       "      <td>MUSIC_AND_AUDIO</td>\n",
       "      <td>soundcloud - music &amp; audio</td>\n",
       "      <td>super app its free</td>\n",
       "    </tr>\n",
       "    <tr>\n",
       "      <th>2715266</th>\n",
       "      <td>SoundCloud - Music &amp; Audio</td>\n",
       "      <td>Zeeshan the great video</td>\n",
       "      <td>May 3, 2019</td>\n",
       "      <td>5</td>\n",
       "      <td>It is good but it will sometimes dose not work...</td>\n",
       "      <td>MUSIC_AND_AUDIO</td>\n",
       "      <td>soundcloud - music &amp; audio</td>\n",
       "      <td>It is good but it will sometimes dose not work...</td>\n",
       "    </tr>\n",
       "    <tr>\n",
       "      <th>2715267</th>\n",
       "      <td>SoundCloud - Music &amp; Audio</td>\n",
       "      <td>Tyler Anderson</td>\n",
       "      <td>May 3, 2019</td>\n",
       "      <td>5</td>\n",
       "      <td>this is a greatapp to use</td>\n",
       "      <td>MUSIC_AND_AUDIO</td>\n",
       "      <td>soundcloud - music &amp; audio</td>\n",
       "      <td>this is a greatapp to use</td>\n",
       "    </tr>\n",
       "    <tr>\n",
       "      <th>2715271</th>\n",
       "      <td>SoundCloud - Music &amp; Audio</td>\n",
       "      <td>Khanyi Mahlangu</td>\n",
       "      <td>May 3, 2019</td>\n",
       "      <td>5</td>\n",
       "      <td>Lit</td>\n",
       "      <td>MUSIC_AND_AUDIO</td>\n",
       "      <td>soundcloud - music &amp; audio</td>\n",
       "      <td>Lit 🔥 🔥🔥</td>\n",
       "    </tr>\n",
       "    <tr>\n",
       "      <th>2715274</th>\n",
       "      <td>SoundCloud - Music &amp; Audio</td>\n",
       "      <td>Yuvraj Shrivastava</td>\n",
       "      <td>May 3, 2019</td>\n",
       "      <td>5</td>\n",
       "      <td>excellent options and quality too</td>\n",
       "      <td>MUSIC_AND_AUDIO</td>\n",
       "      <td>soundcloud - music &amp; audio</td>\n",
       "      <td>excellent options and quality too.</td>\n",
       "    </tr>\n",
       "    <tr>\n",
       "      <th>2715275</th>\n",
       "      <td>SoundCloud - Music &amp; Audio</td>\n",
       "      <td>crystal zapata</td>\n",
       "      <td>May 3, 2019</td>\n",
       "      <td>5</td>\n",
       "      <td>its a very good app</td>\n",
       "      <td>MUSIC_AND_AUDIO</td>\n",
       "      <td>soundcloud - music &amp; audio</td>\n",
       "      <td>it's a very good app</td>\n",
       "    </tr>\n",
       "    <tr>\n",
       "      <th>2715276</th>\n",
       "      <td>SoundCloud - Music &amp; Audio</td>\n",
       "      <td>JeremiahY387 blue89</td>\n",
       "      <td>May 3, 2019</td>\n",
       "      <td>5</td>\n",
       "      <td>i like tgis app better than spotify</td>\n",
       "      <td>MUSIC_AND_AUDIO</td>\n",
       "      <td>soundcloud - music &amp; audio</td>\n",
       "      <td>i like tgis app better than spotify</td>\n",
       "    </tr>\n",
       "    <tr>\n",
       "      <th>2715279</th>\n",
       "      <td>SoundCloud - Music &amp; Audio</td>\n",
       "      <td>Ariel Osorio</td>\n",
       "      <td>May 3, 2019</td>\n",
       "      <td>5</td>\n",
       "      <td>we can make our own songs like tf</td>\n",
       "      <td>MUSIC_AND_AUDIO</td>\n",
       "      <td>soundcloud - music &amp; audio</td>\n",
       "      <td>we can make our own songs like tf</td>\n",
       "    </tr>\n",
       "    <tr>\n",
       "      <th>2715280</th>\n",
       "      <td>SoundCloud - Music &amp; Audio</td>\n",
       "      <td>Genyze Roque</td>\n",
       "      <td>May 3, 2019</td>\n",
       "      <td>5</td>\n",
       "      <td>like the app keep up the good work</td>\n",
       "      <td>MUSIC_AND_AUDIO</td>\n",
       "      <td>soundcloud - music &amp; audio</td>\n",
       "      <td>like the app keep up the good work :)</td>\n",
       "    </tr>\n",
       "    <tr>\n",
       "      <th>2715282</th>\n",
       "      <td>SoundCloud - Music &amp; Audio</td>\n",
       "      <td>A Google User</td>\n",
       "      <td>May 3, 2019</td>\n",
       "      <td>5</td>\n",
       "      <td>My travel buddy I hope i can still use it offline</td>\n",
       "      <td>MUSIC_AND_AUDIO</td>\n",
       "      <td>soundcloud - music &amp; audio</td>\n",
       "      <td>My travel buddy😊😊😊 I hope i can still use it o...</td>\n",
       "    </tr>\n",
       "    <tr>\n",
       "      <th>2715283</th>\n",
       "      <td>SoundCloud - Music &amp; Audio</td>\n",
       "      <td>Aakash Rajeshwari</td>\n",
       "      <td>May 3, 2019</td>\n",
       "      <td>5</td>\n",
       "      <td>Before soundcloud I was using Gaana but after ...</td>\n",
       "      <td>MUSIC_AND_AUDIO</td>\n",
       "      <td>soundcloud - music &amp; audio</td>\n",
       "      <td>Before soundcloud I was using Gaana but after ...</td>\n",
       "    </tr>\n",
       "    <tr>\n",
       "      <th>2715284</th>\n",
       "      <td>SoundCloud - Music &amp; Audio</td>\n",
       "      <td>Anime King</td>\n",
       "      <td>May 3, 2019</td>\n",
       "      <td>4</td>\n",
       "      <td>they dont have all my favorite Lil uzi songs s...</td>\n",
       "      <td>MUSIC_AND_AUDIO</td>\n",
       "      <td>soundcloud - music &amp; audio</td>\n",
       "      <td>they don't have all my favorite Lil uzi songs ...</td>\n",
       "    </tr>\n",
       "    <tr>\n",
       "      <th>2715287</th>\n",
       "      <td>SoundCloud - Music &amp; Audio</td>\n",
       "      <td>Alejandro Delgado</td>\n",
       "      <td>May 3, 2019</td>\n",
       "      <td>5</td>\n",
       "      <td>it greatest thing on the plant</td>\n",
       "      <td>MUSIC_AND_AUDIO</td>\n",
       "      <td>soundcloud - music &amp; audio</td>\n",
       "      <td>it greatest thing on the plant</td>\n",
       "    </tr>\n",
       "    <tr>\n",
       "      <th>2715288</th>\n",
       "      <td>SoundCloud - Music &amp; Audio</td>\n",
       "      <td>Geoffrey Demordzi</td>\n",
       "      <td>May 3, 2019</td>\n",
       "      <td>5</td>\n",
       "      <td>best ever app and cant have a phone without SO...</td>\n",
       "      <td>MUSIC_AND_AUDIO</td>\n",
       "      <td>soundcloud - music &amp; audio</td>\n",
       "      <td>best ever app and cant have a phone without SO...</td>\n",
       "    </tr>\n",
       "    <tr>\n",
       "      <th>2715289</th>\n",
       "      <td>SoundCloud - Music &amp; Audio</td>\n",
       "      <td>Clarence familyGamer</td>\n",
       "      <td>May 3, 2019</td>\n",
       "      <td>5</td>\n",
       "      <td>best music app in the game</td>\n",
       "      <td>MUSIC_AND_AUDIO</td>\n",
       "      <td>soundcloud - music &amp; audio</td>\n",
       "      <td>best music app in the game</td>\n",
       "    </tr>\n",
       "    <tr>\n",
       "      <th>2715293</th>\n",
       "      <td>SoundCloud - Music &amp; Audio</td>\n",
       "      <td>amal sidhardh</td>\n",
       "      <td>May 3, 2019</td>\n",
       "      <td>5</td>\n",
       "      <td>I jst love this very much I recommend every on...</td>\n",
       "      <td>MUSIC_AND_AUDIO</td>\n",
       "      <td>soundcloud - music &amp; audio</td>\n",
       "      <td>I jst love this very much I recommend every on...</td>\n",
       "    </tr>\n",
       "    <tr>\n",
       "      <th>2715294</th>\n",
       "      <td>SoundCloud - Music &amp; Audio</td>\n",
       "      <td>Jan Robledo</td>\n",
       "      <td>May 3, 2019</td>\n",
       "      <td>5</td>\n",
       "      <td>I LOVE MUSIC</td>\n",
       "      <td>MUSIC_AND_AUDIO</td>\n",
       "      <td>soundcloud - music &amp; audio</td>\n",
       "      <td>I LOVE MUSIC</td>\n",
       "    </tr>\n",
       "    <tr>\n",
       "      <th>2715295</th>\n",
       "      <td>SoundCloud - Music &amp; Audio</td>\n",
       "      <td>tällíëpøøh 123</td>\n",
       "      <td>May 3, 2019</td>\n",
       "      <td>4</td>\n",
       "      <td>Its a pretty good app but mostly every good so...</td>\n",
       "      <td>MUSIC_AND_AUDIO</td>\n",
       "      <td>soundcloud - music &amp; audio</td>\n",
       "      <td>It's a pretty good app, but mostly every good ...</td>\n",
       "    </tr>\n",
       "    <tr>\n",
       "      <th>2715296</th>\n",
       "      <td>SoundCloud - Music &amp; Audio</td>\n",
       "      <td>POOJA PRAKASH</td>\n",
       "      <td>May 3, 2019</td>\n",
       "      <td>5</td>\n",
       "      <td>I like it</td>\n",
       "      <td>MUSIC_AND_AUDIO</td>\n",
       "      <td>soundcloud - music &amp; audio</td>\n",
       "      <td>I like it</td>\n",
       "    </tr>\n",
       "    <tr>\n",
       "      <th>2715301</th>\n",
       "      <td>SoundCloud - Music &amp; Audio</td>\n",
       "      <td>Teairo Keys</td>\n",
       "      <td>May 3, 2019</td>\n",
       "      <td>5</td>\n",
       "      <td>love this app</td>\n",
       "      <td>MUSIC_AND_AUDIO</td>\n",
       "      <td>soundcloud - music &amp; audio</td>\n",
       "      <td>love this app</td>\n",
       "    </tr>\n",
       "    <tr>\n",
       "      <th>2715302</th>\n",
       "      <td>SoundCloud - Music &amp; Audio</td>\n",
       "      <td>Ian Libo</td>\n",
       "      <td>May 3, 2019</td>\n",
       "      <td>1</td>\n",
       "      <td>The app was great and has a very nice selectio...</td>\n",
       "      <td>MUSIC_AND_AUDIO</td>\n",
       "      <td>soundcloud - music &amp; audio</td>\n",
       "      <td>The app was great and has a very nice selectio...</td>\n",
       "    </tr>\n",
       "  </tbody>\n",
       "</table>\n",
       "<p>936504 rows × 8 columns</p>\n",
       "</div>"
      ],
      "text/plain": [
       "                                           appTitle                 userName  \\\n",
       "index                                                                          \n",
       "2                                         Photomath                      NaN   \n",
       "6                                         Photomath          אוביידו אדריאנה   \n",
       "9                                         Photomath             Kaleb Wallis   \n",
       "10                                        Photomath                    juana   \n",
       "11                                        Photomath               Duje Basic   \n",
       "13                                        Photomath                      NaN   \n",
       "17                                        Photomath     The Hanika Homestead   \n",
       "18                                        Photomath                      NaN   \n",
       "19                                        Photomath           Tiffany Hohman   \n",
       "20                                        Photomath            Tahseen Ameen   \n",
       "22                                        Photomath                      NaN   \n",
       "25                                        Photomath                      NaN   \n",
       "27                                        Photomath                      NaN   \n",
       "28                                        Photomath                   Minnie   \n",
       "29                                        Photomath                      NaN   \n",
       "32                                        Photomath           SHIVAM AWASTHI   \n",
       "34                                        Photomath               joshua raj   \n",
       "35                                        Photomath               anfal Bhai   \n",
       "36                                        Photomath                      NaN   \n",
       "38                                        Photomath           sjiano thegeek   \n",
       "40                     Remind: School Communication          Ronesheia Bates   \n",
       "41                     Remind: School Communication        ashley beauregard   \n",
       "42                     Remind: School Communication              Carleigh R.   \n",
       "43                     Remind: School Communication                      NaN   \n",
       "44                     Remind: School Communication              Erik Wernau   \n",
       "48                     Remind: School Communication           Meet Khatiwala   \n",
       "49                     Remind: School Communication         Annette Martinez   \n",
       "50                     Remind: School Communication           Kelly Katzmann   \n",
       "51                     Remind: School Communication           Ursula Tendong   \n",
       "52                     Remind: School Communication          kolby michalski   \n",
       "...                                             ...                      ...   \n",
       "2715252  iHeartRadio - Free Music, Radio & Podcasts          Jessie Provenza   \n",
       "2715253  iHeartRadio - Free Music, Radio & Podcasts     Sonia/ just me Ramos   \n",
       "2715255  iHeartRadio - Free Music, Radio & Podcasts           Teri Kurkowski   \n",
       "2715257  iHeartRadio - Free Music, Radio & Podcasts           Kristin Foster   \n",
       "2715258  iHeartRadio - Free Music, Radio & Podcasts               Darla Goar   \n",
       "2715259  iHeartRadio - Free Music, Radio & Podcasts           Antony Marsden   \n",
       "2715261  iHeartRadio - Free Music, Radio & Podcasts         Jonathan jeffrey   \n",
       "2715262  iHeartRadio - Free Music, Radio & Podcasts           IamBanana 1002   \n",
       "2715263                  SoundCloud - Music & Audio                 Hey Nerd   \n",
       "2715265                  SoundCloud - Music & Audio           Dinesh Tharaka   \n",
       "2715266                  SoundCloud - Music & Audio  Zeeshan the great video   \n",
       "2715267                  SoundCloud - Music & Audio           Tyler Anderson   \n",
       "2715271                  SoundCloud - Music & Audio          Khanyi Mahlangu   \n",
       "2715274                  SoundCloud - Music & Audio       Yuvraj Shrivastava   \n",
       "2715275                  SoundCloud - Music & Audio           crystal zapata   \n",
       "2715276                  SoundCloud - Music & Audio      JeremiahY387 blue89   \n",
       "2715279                  SoundCloud - Music & Audio             Ariel Osorio   \n",
       "2715280                  SoundCloud - Music & Audio             Genyze Roque   \n",
       "2715282                  SoundCloud - Music & Audio            A Google User   \n",
       "2715283                  SoundCloud - Music & Audio        Aakash Rajeshwari   \n",
       "2715284                  SoundCloud - Music & Audio               Anime King   \n",
       "2715287                  SoundCloud - Music & Audio        Alejandro Delgado   \n",
       "2715288                  SoundCloud - Music & Audio        Geoffrey Demordzi   \n",
       "2715289                  SoundCloud - Music & Audio     Clarence familyGamer   \n",
       "2715293                  SoundCloud - Music & Audio            amal sidhardh   \n",
       "2715294                  SoundCloud - Music & Audio              Jan Robledo   \n",
       "2715295                  SoundCloud - Music & Audio           tällíëpøøh 123   \n",
       "2715296                  SoundCloud - Music & Audio            POOJA PRAKASH   \n",
       "2715301                  SoundCloud - Music & Audio              Teairo Keys   \n",
       "2715302                  SoundCloud - Music & Audio                 Ian Libo   \n",
       "\n",
       "                   date  score  \\\n",
       "index                            \n",
       "2         March 8, 2019      5   \n",
       "6         March 8, 2019      5   \n",
       "9         March 8, 2019      5   \n",
       "10        March 8, 2019      4   \n",
       "11        March 8, 2019      5   \n",
       "13        March 8, 2019      5   \n",
       "17        March 8, 2019      5   \n",
       "18        March 8, 2019      4   \n",
       "19        March 8, 2019      5   \n",
       "20        March 8, 2019      4   \n",
       "22        March 8, 2019      5   \n",
       "25        March 8, 2019      4   \n",
       "27        March 8, 2019      5   \n",
       "28        March 8, 2019      5   \n",
       "29        March 8, 2019      4   \n",
       "32        March 8, 2019      5   \n",
       "34        March 8, 2019      5   \n",
       "35        March 8, 2019      5   \n",
       "36        March 8, 2019      4   \n",
       "38        March 8, 2019      4   \n",
       "40        March 8, 2019      2   \n",
       "41        March 8, 2019      5   \n",
       "42        March 8, 2019      5   \n",
       "43        March 8, 2019      5   \n",
       "44        March 8, 2019      4   \n",
       "48        March 8, 2019      2   \n",
       "49        March 8, 2019      4   \n",
       "50        March 8, 2019      5   \n",
       "51        March 8, 2019      5   \n",
       "52        March 8, 2019      1   \n",
       "...                 ...    ...   \n",
       "2715252  April 28, 2019      1   \n",
       "2715253  April 28, 2019      5   \n",
       "2715255  April 28, 2019      4   \n",
       "2715257  April 28, 2019      5   \n",
       "2715258  April 28, 2019      5   \n",
       "2715259  April 28, 2019      2   \n",
       "2715261  April 28, 2019      5   \n",
       "2715262  April 28, 2019      5   \n",
       "2715263     May 3, 2019      5   \n",
       "2715265     May 3, 2019      5   \n",
       "2715266     May 3, 2019      5   \n",
       "2715267     May 3, 2019      5   \n",
       "2715271     May 3, 2019      5   \n",
       "2715274     May 3, 2019      5   \n",
       "2715275     May 3, 2019      5   \n",
       "2715276     May 3, 2019      5   \n",
       "2715279     May 3, 2019      5   \n",
       "2715280     May 3, 2019      5   \n",
       "2715282     May 3, 2019      5   \n",
       "2715283     May 3, 2019      5   \n",
       "2715284     May 3, 2019      4   \n",
       "2715287     May 3, 2019      5   \n",
       "2715288     May 3, 2019      5   \n",
       "2715289     May 3, 2019      5   \n",
       "2715293     May 3, 2019      5   \n",
       "2715294     May 3, 2019      5   \n",
       "2715295     May 3, 2019      4   \n",
       "2715296     May 3, 2019      5   \n",
       "2715301     May 3, 2019      5   \n",
       "2715302     May 3, 2019      1   \n",
       "\n",
       "                                                      text         category  \\\n",
       "index                                                                         \n",
       "2        Great App Detailed answers Understandable answers        EDUCATION   \n",
       "6                   Great tool for learning math I love it        EDUCATION   \n",
       "9                 great if your in school or have homework        EDUCATION   \n",
       "10       It is working amazing for me Now i love to fin...        EDUCATION   \n",
       "11       really great and you have all the explanations...        EDUCATION   \n",
       "13        IN LOVE WITH THIS APP YOU HELPED A LOT  THANKYOU        EDUCATION   \n",
       "17       Very helpful for correcting papers or doing a ...        EDUCATION   \n",
       "18                 can this app help with university maths        EDUCATION   \n",
       "19                                   Photo math is AWESOME        EDUCATION   \n",
       "20                 it is very nice  Easy to solve problens        EDUCATION   \n",
       "22       intelligent mathematical software that underst...        EDUCATION   \n",
       "25                             helps good with any problem        EDUCATION   \n",
       "27             it is very easy to use and it works offline        EDUCATION   \n",
       "28       This is an awesome app It has helped me to hel...        EDUCATION   \n",
       "29                                      Helpful N Reliable        EDUCATION   \n",
       "32                                                                EDUCATION   \n",
       "34                                          this is genius        EDUCATION   \n",
       "35         really its very fasti like this appits too good        EDUCATION   \n",
       "36                                           help full app        EDUCATION   \n",
       "38       Brilliant software still a little ways to go w...        EDUCATION   \n",
       "40       Characters are limited which is a big problem ...        EDUCATION   \n",
       "41                        great and helpful app for school        EDUCATION   \n",
       "42                  Helps me keep up with events at school        EDUCATION   \n",
       "43       i loove this app i enjoy being able to have an...        EDUCATION   \n",
       "44       Great for small groups Would be better if the ...        EDUCATION   \n",
       "48       Big bug experienced in case of receiving app n...        EDUCATION   \n",
       "49                   good app to communicate with teachers        EDUCATION   \n",
       "50       Quick easy and efficient Helps out when i cant...        EDUCATION   \n",
       "51                  good tell when is not school hours yet        EDUCATION   \n",
       "52       my phone number was added randomly to a school...        EDUCATION   \n",
       "...                                                    ...              ...   \n",
       "2715252  I have an I heart account my tablet was restor...  MUSIC_AND_AUDIO   \n",
       "2715253                              it was really helpful  MUSIC_AND_AUDIO   \n",
       "2715255  I like listening to this I hate the pop ups if...  MUSIC_AND_AUDIO   \n",
       "2715257  Ive broadened my music interests because this ...  MUSIC_AND_AUDIO   \n",
       "2715258  So amazing to have an app that allows a listen...  MUSIC_AND_AUDIO   \n",
       "2715259  sick of it constantly dropping out when connec...  MUSIC_AND_AUDIO   \n",
       "2715261  I love listening to my favorite station alt 104 9  MUSIC_AND_AUDIO   \n",
       "2715262                                       is very good  MUSIC_AND_AUDIO   \n",
       "2715263                                           This is   MUSIC_AND_AUDIO   \n",
       "2715265                                 super app its free  MUSIC_AND_AUDIO   \n",
       "2715266  It is good but it will sometimes dose not work...  MUSIC_AND_AUDIO   \n",
       "2715267                          this is a greatapp to use  MUSIC_AND_AUDIO   \n",
       "2715271                                              Lit    MUSIC_AND_AUDIO   \n",
       "2715274                  excellent options and quality too  MUSIC_AND_AUDIO   \n",
       "2715275                                its a very good app  MUSIC_AND_AUDIO   \n",
       "2715276                i like tgis app better than spotify  MUSIC_AND_AUDIO   \n",
       "2715279                  we can make our own songs like tf  MUSIC_AND_AUDIO   \n",
       "2715280                like the app keep up the good work   MUSIC_AND_AUDIO   \n",
       "2715282  My travel buddy I hope i can still use it offline  MUSIC_AND_AUDIO   \n",
       "2715283  Before soundcloud I was using Gaana but after ...  MUSIC_AND_AUDIO   \n",
       "2715284  they dont have all my favorite Lil uzi songs s...  MUSIC_AND_AUDIO   \n",
       "2715287                     it greatest thing on the plant  MUSIC_AND_AUDIO   \n",
       "2715288  best ever app and cant have a phone without SO...  MUSIC_AND_AUDIO   \n",
       "2715289                         best music app in the game  MUSIC_AND_AUDIO   \n",
       "2715293  I jst love this very much I recommend every on...  MUSIC_AND_AUDIO   \n",
       "2715294                                       I LOVE MUSIC  MUSIC_AND_AUDIO   \n",
       "2715295  Its a pretty good app but mostly every good so...  MUSIC_AND_AUDIO   \n",
       "2715296                                          I like it  MUSIC_AND_AUDIO   \n",
       "2715301                                      love this app  MUSIC_AND_AUDIO   \n",
       "2715302  The app was great and has a very nice selectio...  MUSIC_AND_AUDIO   \n",
       "\n",
       "                                     appTitle_lower  \\\n",
       "index                                                 \n",
       "2                                         photomath   \n",
       "6                                         photomath   \n",
       "9                                         photomath   \n",
       "10                                        photomath   \n",
       "11                                        photomath   \n",
       "13                                        photomath   \n",
       "17                                        photomath   \n",
       "18                                        photomath   \n",
       "19                                        photomath   \n",
       "20                                        photomath   \n",
       "22                                        photomath   \n",
       "25                                        photomath   \n",
       "27                                        photomath   \n",
       "28                                        photomath   \n",
       "29                                        photomath   \n",
       "32                                        photomath   \n",
       "34                                        photomath   \n",
       "35                                        photomath   \n",
       "36                                        photomath   \n",
       "38                                        photomath   \n",
       "40                     remind: school communication   \n",
       "41                     remind: school communication   \n",
       "42                     remind: school communication   \n",
       "43                     remind: school communication   \n",
       "44                     remind: school communication   \n",
       "48                     remind: school communication   \n",
       "49                     remind: school communication   \n",
       "50                     remind: school communication   \n",
       "51                     remind: school communication   \n",
       "52                     remind: school communication   \n",
       "...                                             ...   \n",
       "2715252  iheartradio - free music, radio & podcasts   \n",
       "2715253  iheartradio - free music, radio & podcasts   \n",
       "2715255  iheartradio - free music, radio & podcasts   \n",
       "2715257  iheartradio - free music, radio & podcasts   \n",
       "2715258  iheartradio - free music, radio & podcasts   \n",
       "2715259  iheartradio - free music, radio & podcasts   \n",
       "2715261  iheartradio - free music, radio & podcasts   \n",
       "2715262  iheartradio - free music, radio & podcasts   \n",
       "2715263                  soundcloud - music & audio   \n",
       "2715265                  soundcloud - music & audio   \n",
       "2715266                  soundcloud - music & audio   \n",
       "2715267                  soundcloud - music & audio   \n",
       "2715271                  soundcloud - music & audio   \n",
       "2715274                  soundcloud - music & audio   \n",
       "2715275                  soundcloud - music & audio   \n",
       "2715276                  soundcloud - music & audio   \n",
       "2715279                  soundcloud - music & audio   \n",
       "2715280                  soundcloud - music & audio   \n",
       "2715282                  soundcloud - music & audio   \n",
       "2715283                  soundcloud - music & audio   \n",
       "2715284                  soundcloud - music & audio   \n",
       "2715287                  soundcloud - music & audio   \n",
       "2715288                  soundcloud - music & audio   \n",
       "2715289                  soundcloud - music & audio   \n",
       "2715293                  soundcloud - music & audio   \n",
       "2715294                  soundcloud - music & audio   \n",
       "2715295                  soundcloud - music & audio   \n",
       "2715296                  soundcloud - music & audio   \n",
       "2715301                  soundcloud - music & audio   \n",
       "2715302                  soundcloud - music & audio   \n",
       "\n",
       "                                                  text_org  \n",
       "index                                                       \n",
       "2        Great App. Detailed answers. Understandable an...  \n",
       "6                 Great tool for learning math, I love it!  \n",
       "9                 great if your in school or have homework  \n",
       "10       It is working amazing for me!!! Now i love to ...  \n",
       "11       really great and you have all the explanations...  \n",
       "13       IN LOVE WITH THIS APP. YOU HELPED A LOT . THAN...  \n",
       "17       Very helpful for correcting papers, or doing a...  \n",
       "18                can this app help with university maths?  \n",
       "19                                Photo math is AWESOME!!!  \n",
       "20                it is very nice . Easy to solve problens  \n",
       "22       intelligent mathematical software that underst...  \n",
       "25                             helps good with any problem  \n",
       "27            it is very easy to use, and it works offline  \n",
       "28       This is an awesome app. It has helped me to he...  \n",
       "29                                      Helpful N Reliable  \n",
       "32               बहुत ही उपयोगी ऐप्प हैं सभी लोगो के लिए ।  \n",
       "34                                         this is genius!  \n",
       "35       really ....it's very fast.......i like this ap...  \n",
       "36                                           help full app  \n",
       "38       Brilliant software still a little ways to go w...  \n",
       "40       Characters are limited, which is a big problem...  \n",
       "41                        great and helpful app for school  \n",
       "42                 Helps me keep up with events at school.  \n",
       "43       i looove this app. i enjoy being able to have ...  \n",
       "44       Great for small groups. Would be better if the...  \n",
       "48       Big bug experienced in case of receiving app n...  \n",
       "49                   good app to communicate with teachers  \n",
       "50       Quick, easy, and efficient! Helps out when i c...  \n",
       "51                 good tell when is not school hours yet.  \n",
       "52       my phone number was added randomly to a school...  \n",
       "...                                                    ...  \n",
       "2715252  I have an I heart account. my tablet was resto...  \n",
       "2715253                              it was really helpful  \n",
       "2715255  I like listening to this I hate the pop ups if...  \n",
       "2715257  I've broadened my music interests because this...  \n",
       "2715258  So amazing to have an app that allows a listen...  \n",
       "2715259  sick of it constantly dropping out when connec...  \n",
       "2715261  I love listening to my favorite station, alt 1...  \n",
       "2715262                                       is very good  \n",
       "2715263                                         This is 😩👌  \n",
       "2715265                                 super app its free  \n",
       "2715266  It is good but it will sometimes dose not work...  \n",
       "2715267                          this is a greatapp to use  \n",
       "2715271                                           Lit 🔥 🔥🔥  \n",
       "2715274                 excellent options and quality too.  \n",
       "2715275                               it's a very good app  \n",
       "2715276                i like tgis app better than spotify  \n",
       "2715279                  we can make our own songs like tf  \n",
       "2715280              like the app keep up the good work :)  \n",
       "2715282  My travel buddy😊😊😊 I hope i can still use it o...  \n",
       "2715283  Before soundcloud I was using Gaana but after ...  \n",
       "2715284  they don't have all my favorite Lil uzi songs ...  \n",
       "2715287                     it greatest thing on the plant  \n",
       "2715288  best ever app and cant have a phone without SO...  \n",
       "2715289                         best music app in the game  \n",
       "2715293  I jst love this very much I recommend every on...  \n",
       "2715294                                       I LOVE MUSIC  \n",
       "2715295  It's a pretty good app, but mostly every good ...  \n",
       "2715296                                          I like it  \n",
       "2715301                                      love this app  \n",
       "2715302  The app was great and has a very nice selectio...  \n",
       "\n",
       "[936504 rows x 8 columns]"
      ]
     },
     "execution_count": 175,
     "metadata": {},
     "output_type": "execute_result"
    }
   ],
   "source": [
    "frame4 = pd.read_csv(\"newestdata_without_nonEng.csv\",header=0)\n",
    "frame4.columns=['index', 'appTitle', 'userName', 'date', 'score', 'text', 'category','appTitle_lower', 'text_org']\n",
    "frame4.set_index('index')\n"
   ]
  },
  {
   "cell_type": "markdown",
   "metadata": {},
   "source": [
    "#### DROPNA APPTITLE"
   ]
  },
  {
   "cell_type": "code",
   "execution_count": 177,
   "metadata": {},
   "outputs": [
    {
     "data": {
      "text/plain": [
       "(715455, 9)"
      ]
     },
     "execution_count": 177,
     "metadata": {},
     "output_type": "execute_result"
    }
   ],
   "source": [
    "frame4.dropna(subset=['appTitle'], inplace=True)\n",
    "frame4.shape"
   ]
  },
  {
   "cell_type": "markdown",
   "metadata": {},
   "source": [
    "***\n",
    "#### 7a. Should we remove the reviews that contain two or less number of words?"
   ]
  },
  {
   "cell_type": "markdown",
   "metadata": {},
   "source": [
    "1. It is possible for us to consider remove the reviews only containing two or less words. Due to the fact there are many scam reviews which can be made by the owers to promote the product or the competitors to degrade it. The significant evidence for this is the review is often very short\n",
    "\n",
    "2. Besides the above reasons, one another reason is that if someone give a genuine review about a product with 5 stars or 1 stars, they usually have a long comment to express good/bad feeling about the product.\n",
    "If a customer has no impression with the product, their review is utterly short. Therefore I suggest that we should remove less-than-two-word comments for 1-score and 5-score groups"
   ]
  },
  {
   "cell_type": "markdown",
   "metadata": {},
   "source": [
    "#### 7b Remove the reviews that have two or less number of words\n",
    "Implemented before the remove non-English review to reducing the work load for langid run "
   ]
  },
  {
   "cell_type": "markdown",
   "metadata": {},
   "source": [
    "***\n",
    "#### 8. How many reviews exist in each of the eight app-categories?\n",
    "\n",
    "#### The non App_Title is not removed to utilize the information from the data as much as possible  "
   ]
  },
  {
   "cell_type": "code",
   "execution_count": 178,
   "metadata": {},
   "outputs": [
    {
     "data": {
      "text/html": [
       "<div>\n",
       "<style scoped>\n",
       "    .dataframe tbody tr th:only-of-type {\n",
       "        vertical-align: middle;\n",
       "    }\n",
       "\n",
       "    .dataframe tbody tr th {\n",
       "        vertical-align: top;\n",
       "    }\n",
       "\n",
       "    .dataframe thead th {\n",
       "        text-align: right;\n",
       "    }\n",
       "</style>\n",
       "<table border=\"1\" class=\"dataframe\">\n",
       "  <thead>\n",
       "    <tr style=\"text-align: right;\">\n",
       "      <th></th>\n",
       "      <th>Number_Review_after_Test_Processing</th>\n",
       "      <th>Number_Review_before_Test_Processing</th>\n",
       "      <th>Deducing Ratio</th>\n",
       "    </tr>\n",
       "    <tr>\n",
       "      <th>category</th>\n",
       "      <th></th>\n",
       "      <th></th>\n",
       "      <th></th>\n",
       "    </tr>\n",
       "  </thead>\n",
       "  <tbody>\n",
       "    <tr>\n",
       "      <th>EDUCATION</th>\n",
       "      <td>67025</td>\n",
       "      <td>95916</td>\n",
       "      <td>0.301211</td>\n",
       "    </tr>\n",
       "    <tr>\n",
       "      <th>ENTERTAINMENT</th>\n",
       "      <td>103619</td>\n",
       "      <td>183518</td>\n",
       "      <td>0.435374</td>\n",
       "    </tr>\n",
       "    <tr>\n",
       "      <th>FAMILY</th>\n",
       "      <td>86410</td>\n",
       "      <td>125318</td>\n",
       "      <td>0.310474</td>\n",
       "    </tr>\n",
       "    <tr>\n",
       "      <th>FINANCE</th>\n",
       "      <td>93488</td>\n",
       "      <td>141158</td>\n",
       "      <td>0.337707</td>\n",
       "    </tr>\n",
       "    <tr>\n",
       "      <th>GAME_ACTION</th>\n",
       "      <td>109645</td>\n",
       "      <td>209497</td>\n",
       "      <td>0.476627</td>\n",
       "    </tr>\n",
       "    <tr>\n",
       "      <th>HEALTH_AND_FITNESS</th>\n",
       "      <td>77215</td>\n",
       "      <td>109865</td>\n",
       "      <td>0.297183</td>\n",
       "    </tr>\n",
       "    <tr>\n",
       "      <th>LIFESTYLE</th>\n",
       "      <td>65887</td>\n",
       "      <td>102945</td>\n",
       "      <td>0.359979</td>\n",
       "    </tr>\n",
       "    <tr>\n",
       "      <th>MUSIC_AND_AUDIO</th>\n",
       "      <td>112166</td>\n",
       "      <td>172981</td>\n",
       "      <td>0.351570</td>\n",
       "    </tr>\n",
       "  </tbody>\n",
       "</table>\n",
       "</div>"
      ],
      "text/plain": [
       "                    Number_Review_after_Test_Processing  \\\n",
       "category                                                  \n",
       "EDUCATION                                         67025   \n",
       "ENTERTAINMENT                                    103619   \n",
       "FAMILY                                            86410   \n",
       "FINANCE                                           93488   \n",
       "GAME_ACTION                                      109645   \n",
       "HEALTH_AND_FITNESS                                77215   \n",
       "LIFESTYLE                                         65887   \n",
       "MUSIC_AND_AUDIO                                  112166   \n",
       "\n",
       "                    Number_Review_before_Test_Processing  Deducing Ratio  \n",
       "category                                                                  \n",
       "EDUCATION                                          95916        0.301211  \n",
       "ENTERTAINMENT                                     183518        0.435374  \n",
       "FAMILY                                            125318        0.310474  \n",
       "FINANCE                                           141158        0.337707  \n",
       "GAME_ACTION                                       209497        0.476627  \n",
       "HEALTH_AND_FITNESS                                109865        0.297183  \n",
       "LIFESTYLE                                         102945        0.359979  \n",
       "MUSIC_AND_AUDIO                                   172981        0.351570  "
      ]
     },
     "execution_count": 178,
     "metadata": {},
     "output_type": "execute_result"
    }
   ],
   "source": [
    "answer8=pd.DataFrame(frame4.groupby('category')['text'].count())\n",
    "answer8.columns=[\"Number_Review_after_Test_Processing\"]\n",
    "answer8=pd.concat([answer8,answer2b_3[\"Number_Review_before_Test_Processing\"]],axis=1)\n",
    "answer8[\"Deducing Ratio\"]=(answer8.iloc[:,1]-answer8.iloc[:,0])/answer8.iloc[:,1]\n",
    "answer8"
   ]
  },
  {
   "cell_type": "markdown",
   "metadata": {},
   "source": [
    "***\n",
    "#### 9. How many reviews in each contentRating-sub-groups in each app-category"
   ]
  },
  {
   "cell_type": "code",
   "execution_count": 184,
   "metadata": {},
   "outputs": [
    {
     "data": {
      "text/html": [
       "<div>\n",
       "<style scoped>\n",
       "    .dataframe tbody tr th:only-of-type {\n",
       "        vertical-align: middle;\n",
       "    }\n",
       "\n",
       "    .dataframe tbody tr th {\n",
       "        vertical-align: top;\n",
       "    }\n",
       "\n",
       "    .dataframe thead th {\n",
       "        text-align: right;\n",
       "    }\n",
       "</style>\n",
       "<table border=\"1\" class=\"dataframe\">\n",
       "  <thead>\n",
       "    <tr style=\"text-align: right;\">\n",
       "      <th></th>\n",
       "      <th></th>\n",
       "      <th>Number_Review_after_Test_Processing</th>\n",
       "      <th>Number_Review_before_Test_Processing</th>\n",
       "      <th>Deducing Ratio</th>\n",
       "    </tr>\n",
       "    <tr>\n",
       "      <th>category</th>\n",
       "      <th>contentRating</th>\n",
       "      <th></th>\n",
       "      <th></th>\n",
       "      <th></th>\n",
       "    </tr>\n",
       "  </thead>\n",
       "  <tbody>\n",
       "    <tr>\n",
       "      <th>EDUCATION</th>\n",
       "      <th>Everyone</th>\n",
       "      <td>67025</td>\n",
       "      <td>95916</td>\n",
       "      <td>0.301211</td>\n",
       "    </tr>\n",
       "    <tr>\n",
       "      <th rowspan=\"3\" valign=\"top\">ENTERTAINMENT</th>\n",
       "      <th>Everyone</th>\n",
       "      <td>9924</td>\n",
       "      <td>14377</td>\n",
       "      <td>0.309731</td>\n",
       "    </tr>\n",
       "    <tr>\n",
       "      <th>Mature 17+</th>\n",
       "      <td>4742</td>\n",
       "      <td>7278</td>\n",
       "      <td>0.348447</td>\n",
       "    </tr>\n",
       "    <tr>\n",
       "      <th>Teen</th>\n",
       "      <td>88953</td>\n",
       "      <td>161853</td>\n",
       "      <td>0.450409</td>\n",
       "    </tr>\n",
       "    <tr>\n",
       "      <th rowspan=\"2\" valign=\"top\">FAMILY</th>\n",
       "      <th>Everyone</th>\n",
       "      <td>50790</td>\n",
       "      <td>77211</td>\n",
       "      <td>0.342192</td>\n",
       "    </tr>\n",
       "    <tr>\n",
       "      <th>Everyone 10+</th>\n",
       "      <td>35620</td>\n",
       "      <td>48107</td>\n",
       "      <td>0.259567</td>\n",
       "    </tr>\n",
       "    <tr>\n",
       "      <th>FINANCE</th>\n",
       "      <th>Everyone</th>\n",
       "      <td>93488</td>\n",
       "      <td>141129</td>\n",
       "      <td>0.337571</td>\n",
       "    </tr>\n",
       "    <tr>\n",
       "      <th rowspan=\"3\" valign=\"top\">GAME_ACTION</th>\n",
       "      <th>Everyone</th>\n",
       "      <td>52603</td>\n",
       "      <td>87560</td>\n",
       "      <td>0.399235</td>\n",
       "    </tr>\n",
       "    <tr>\n",
       "      <th>Mature 17+</th>\n",
       "      <td>11148</td>\n",
       "      <td>29359</td>\n",
       "      <td>0.620287</td>\n",
       "    </tr>\n",
       "    <tr>\n",
       "      <th>Teen</th>\n",
       "      <td>45894</td>\n",
       "      <td>92574</td>\n",
       "      <td>0.504245</td>\n",
       "    </tr>\n",
       "    <tr>\n",
       "      <th>HEALTH_AND_FITNESS</th>\n",
       "      <th>Everyone</th>\n",
       "      <td>77215</td>\n",
       "      <td>109859</td>\n",
       "      <td>0.297145</td>\n",
       "    </tr>\n",
       "    <tr>\n",
       "      <th rowspan=\"3\" valign=\"top\">LIFESTYLE</th>\n",
       "      <th>Everyone</th>\n",
       "      <td>50068</td>\n",
       "      <td>78200</td>\n",
       "      <td>0.359744</td>\n",
       "    </tr>\n",
       "    <tr>\n",
       "      <th>Mature 17+</th>\n",
       "      <td>13814</td>\n",
       "      <td>21716</td>\n",
       "      <td>0.363879</td>\n",
       "    </tr>\n",
       "    <tr>\n",
       "      <th>Teen</th>\n",
       "      <td>2005</td>\n",
       "      <td>3012</td>\n",
       "      <td>0.334329</td>\n",
       "    </tr>\n",
       "    <tr>\n",
       "      <th rowspan=\"2\" valign=\"top\">MUSIC_AND_AUDIO</th>\n",
       "      <th>Everyone</th>\n",
       "      <td>15403</td>\n",
       "      <td>22754</td>\n",
       "      <td>0.323064</td>\n",
       "    </tr>\n",
       "    <tr>\n",
       "      <th>Teen</th>\n",
       "      <td>96763</td>\n",
       "      <td>150219</td>\n",
       "      <td>0.355854</td>\n",
       "    </tr>\n",
       "  </tbody>\n",
       "</table>\n",
       "</div>"
      ],
      "text/plain": [
       "                                  Number_Review_after_Test_Processing  \\\n",
       "category           contentRating                                        \n",
       "EDUCATION          Everyone                                     67025   \n",
       "ENTERTAINMENT      Everyone                                      9924   \n",
       "                   Mature 17+                                    4742   \n",
       "                   Teen                                         88953   \n",
       "FAMILY             Everyone                                     50790   \n",
       "                   Everyone 10+                                 35620   \n",
       "FINANCE            Everyone                                     93488   \n",
       "GAME_ACTION        Everyone                                     52603   \n",
       "                   Mature 17+                                   11148   \n",
       "                   Teen                                         45894   \n",
       "HEALTH_AND_FITNESS Everyone                                     77215   \n",
       "LIFESTYLE          Everyone                                     50068   \n",
       "                   Mature 17+                                   13814   \n",
       "                   Teen                                          2005   \n",
       "MUSIC_AND_AUDIO    Everyone                                     15403   \n",
       "                   Teen                                         96763   \n",
       "\n",
       "                                  Number_Review_before_Test_Processing  \\\n",
       "category           contentRating                                         \n",
       "EDUCATION          Everyone                                      95916   \n",
       "ENTERTAINMENT      Everyone                                      14377   \n",
       "                   Mature 17+                                     7278   \n",
       "                   Teen                                         161853   \n",
       "FAMILY             Everyone                                      77211   \n",
       "                   Everyone 10+                                  48107   \n",
       "FINANCE            Everyone                                     141129   \n",
       "GAME_ACTION        Everyone                                      87560   \n",
       "                   Mature 17+                                    29359   \n",
       "                   Teen                                          92574   \n",
       "HEALTH_AND_FITNESS Everyone                                     109859   \n",
       "LIFESTYLE          Everyone                                      78200   \n",
       "                   Mature 17+                                    21716   \n",
       "                   Teen                                           3012   \n",
       "MUSIC_AND_AUDIO    Everyone                                      22754   \n",
       "                   Teen                                         150219   \n",
       "\n",
       "                                  Deducing Ratio  \n",
       "category           contentRating                  \n",
       "EDUCATION          Everyone             0.301211  \n",
       "ENTERTAINMENT      Everyone             0.309731  \n",
       "                   Mature 17+           0.348447  \n",
       "                   Teen                 0.450409  \n",
       "FAMILY             Everyone             0.342192  \n",
       "                   Everyone 10+         0.259567  \n",
       "FINANCE            Everyone             0.337571  \n",
       "GAME_ACTION        Everyone             0.399235  \n",
       "                   Mature 17+           0.620287  \n",
       "                   Teen                 0.504245  \n",
       "HEALTH_AND_FITNESS Everyone             0.297145  \n",
       "LIFESTYLE          Everyone             0.359744  \n",
       "                   Mature 17+           0.363879  \n",
       "                   Teen                 0.334329  \n",
       "MUSIC_AND_AUDIO    Everyone             0.323064  \n",
       "                   Teen                 0.355854  "
      ]
     },
     "execution_count": 184,
     "metadata": {},
     "output_type": "execute_result"
    }
   ],
   "source": [
    "appTitle_CR=detailreview.drop_duplicates(subset ='appTitle',keep = 'first')[['appTitle','contentRating']]\n",
    "frame4['contentRating']=frame4['appTitle'].map(appTitle_CR.set_index('appTitle')['contentRating'])\n",
    "answer9=pd.DataFrame(frame4.groupby(['category','contentRating'])['text'].count())\n",
    "answer9.columns=[\"Number_Review_after_Test_Processing\"]\n",
    "answer9=pd.concat([answer9,answer5_6[\"Number_Review_before_Test_Processing\"]],axis=1)\n",
    "answer9[\"Deducing Ratio\"]=(answer9.iloc[:,1]-answer9.iloc[:,0])/answer9.iloc[:,1]\n",
    "answer9"
   ]
  },
  {
   "cell_type": "markdown",
   "metadata": {},
   "source": [
    "***\n",
    "#### 10. What is the number of reviews for each score (score column)? "
   ]
  },
  {
   "cell_type": "code",
   "execution_count": 301,
   "metadata": {},
   "outputs": [
    {
     "data": {
      "text/html": [
       "<div>\n",
       "<style scoped>\n",
       "    .dataframe tbody tr th:only-of-type {\n",
       "        vertical-align: middle;\n",
       "    }\n",
       "\n",
       "    .dataframe tbody tr th {\n",
       "        vertical-align: top;\n",
       "    }\n",
       "\n",
       "    .dataframe thead th {\n",
       "        text-align: right;\n",
       "    }\n",
       "</style>\n",
       "<table border=\"1\" class=\"dataframe\">\n",
       "  <thead>\n",
       "    <tr style=\"text-align: right;\">\n",
       "      <th></th>\n",
       "      <th>Number of Reviews</th>\n",
       "    </tr>\n",
       "    <tr>\n",
       "      <th>score</th>\n",
       "      <th></th>\n",
       "    </tr>\n",
       "  </thead>\n",
       "  <tbody>\n",
       "    <tr>\n",
       "      <th>1</th>\n",
       "      <td>124599</td>\n",
       "    </tr>\n",
       "    <tr>\n",
       "      <th>2</th>\n",
       "      <td>30756</td>\n",
       "    </tr>\n",
       "    <tr>\n",
       "      <th>3</th>\n",
       "      <td>41949</td>\n",
       "    </tr>\n",
       "    <tr>\n",
       "      <th>4</th>\n",
       "      <td>77671</td>\n",
       "    </tr>\n",
       "    <tr>\n",
       "      <th>5</th>\n",
       "      <td>440480</td>\n",
       "    </tr>\n",
       "  </tbody>\n",
       "</table>\n",
       "</div>"
      ],
      "text/plain": [
       "       Number of Reviews\n",
       "score                   \n",
       "1                 124599\n",
       "2                  30756\n",
       "3                  41949\n",
       "4                  77671\n",
       "5                 440480"
      ]
     },
     "execution_count": 301,
     "metadata": {},
     "output_type": "execute_result"
    }
   ],
   "source": [
    "answer10=pd.DataFrame(frame4.groupby('score')['text'].count())\n",
    "answer10.columns = ['Number of Reviews']\n",
    "answer10"
   ]
  },
  {
   "cell_type": "markdown",
   "metadata": {},
   "source": [
    "***\n",
    "#### 11. How many apps exist in each score-sub-group?"
   ]
  },
  {
   "cell_type": "code",
   "execution_count": 284,
   "metadata": {},
   "outputs": [
    {
     "data": {
      "text/html": [
       "<div>\n",
       "<style scoped>\n",
       "    .dataframe tbody tr th:only-of-type {\n",
       "        vertical-align: middle;\n",
       "    }\n",
       "\n",
       "    .dataframe tbody tr th {\n",
       "        vertical-align: top;\n",
       "    }\n",
       "\n",
       "    .dataframe thead th {\n",
       "        text-align: right;\n",
       "    }\n",
       "</style>\n",
       "<table border=\"1\" class=\"dataframe\">\n",
       "  <thead>\n",
       "    <tr style=\"text-align: right;\">\n",
       "      <th></th>\n",
       "      <th>Number of Apps</th>\n",
       "    </tr>\n",
       "    <tr>\n",
       "      <th>score</th>\n",
       "      <th></th>\n",
       "    </tr>\n",
       "  </thead>\n",
       "  <tbody>\n",
       "    <tr>\n",
       "      <th>1</th>\n",
       "      <td>86</td>\n",
       "    </tr>\n",
       "    <tr>\n",
       "      <th>2</th>\n",
       "      <td>86</td>\n",
       "    </tr>\n",
       "    <tr>\n",
       "      <th>3</th>\n",
       "      <td>86</td>\n",
       "    </tr>\n",
       "    <tr>\n",
       "      <th>4</th>\n",
       "      <td>86</td>\n",
       "    </tr>\n",
       "    <tr>\n",
       "      <th>5</th>\n",
       "      <td>86</td>\n",
       "    </tr>\n",
       "  </tbody>\n",
       "</table>\n",
       "</div>"
      ],
      "text/plain": [
       "       Number of Apps\n",
       "score                \n",
       "1                  86\n",
       "2                  86\n",
       "3                  86\n",
       "4                  86\n",
       "5                  86"
      ]
     },
     "execution_count": 284,
     "metadata": {},
     "output_type": "execute_result"
    }
   ],
   "source": [
    "answer11=pd.DataFrame(frame4.groupby('score')['appTitle_lower'].nunique())\n",
    "answer11.columns =[\"Number of Apps\"]\n",
    "answer11"
   ]
  },
  {
   "cell_type": "markdown",
   "metadata": {},
   "source": [
    "***\n",
    "#### 12. Compare the number of reviews for each score in a plot (Remember to normalize the numbers when you are comparing them)."
   ]
  },
  {
   "cell_type": "code",
   "execution_count": 199,
   "metadata": {},
   "outputs": [
    {
     "data": {
      "text/html": [
       "<div>\n",
       "<style scoped>\n",
       "    .dataframe tbody tr th:only-of-type {\n",
       "        vertical-align: middle;\n",
       "    }\n",
       "\n",
       "    .dataframe tbody tr th {\n",
       "        vertical-align: top;\n",
       "    }\n",
       "\n",
       "    .dataframe thead th {\n",
       "        text-align: right;\n",
       "    }\n",
       "</style>\n",
       "<table border=\"1\" class=\"dataframe\">\n",
       "  <thead>\n",
       "    <tr style=\"text-align: right;\">\n",
       "      <th></th>\n",
       "      <th>Number of Reviews</th>\n",
       "      <th>Review_Mean_Max_Normalize</th>\n",
       "    </tr>\n",
       "    <tr>\n",
       "      <th>score</th>\n",
       "      <th></th>\n",
       "      <th></th>\n",
       "    </tr>\n",
       "  </thead>\n",
       "  <tbody>\n",
       "    <tr>\n",
       "      <th>1</th>\n",
       "      <td>124599</td>\n",
       "      <td>0.229040</td>\n",
       "    </tr>\n",
       "    <tr>\n",
       "      <th>2</th>\n",
       "      <td>30756</td>\n",
       "      <td>0.000000</td>\n",
       "    </tr>\n",
       "    <tr>\n",
       "      <th>3</th>\n",
       "      <td>41949</td>\n",
       "      <td>0.027318</td>\n",
       "    </tr>\n",
       "    <tr>\n",
       "      <th>4</th>\n",
       "      <td>77671</td>\n",
       "      <td>0.114504</td>\n",
       "    </tr>\n",
       "    <tr>\n",
       "      <th>5</th>\n",
       "      <td>440480</td>\n",
       "      <td>1.000000</td>\n",
       "    </tr>\n",
       "  </tbody>\n",
       "</table>\n",
       "</div>"
      ],
      "text/plain": [
       "       Number of Reviews  Review_Mean_Max_Normalize\n",
       "score                                              \n",
       "1                 124599                   0.229040\n",
       "2                  30756                   0.000000\n",
       "3                  41949                   0.027318\n",
       "4                  77671                   0.114504\n",
       "5                 440480                   1.000000"
      ]
     },
     "execution_count": 199,
     "metadata": {},
     "output_type": "execute_result"
    }
   ],
   "source": [
    "answer12=answer10\n",
    "answer12['Review_Mean_Max_Normalize']=(answer12[\"Number of Reviews\"]-answer12[\"Number of Reviews\"].min())/(answer12[\"Number of Reviews\"].max()-answer12[\"Number of Reviews\"].min())\n",
    "answer12"
   ]
  },
  {
   "cell_type": "code",
   "execution_count": 209,
   "metadata": {
    "scrolled": true
   },
   "outputs": [
    {
     "data": {
      "image/png": "[encoded data removed]",
      "text/plain": [
       "<Figure size 432x288 with 1 Axes>"
      ]
     },
     "metadata": {
      "needs_background": "light"
     },
     "output_type": "display_data"
    }
   ],
   "source": [
    "import matplotlib.pyplot as plt\n",
    "answer12['score']=answer12.index\n",
    "answer12.plot.bar(x='score',y='Review_Mean_Max_Normalize')\n",
    "plt.savefig('answer12.png')"
   ]
  },
  {
   "cell_type": "markdown",
   "metadata": {},
   "source": [
    "***\n",
    "#### 13. What is the average length of the reviews in each score-sub-group?"
   ]
  },
  {
   "cell_type": "code",
   "execution_count": 210,
   "metadata": {},
   "outputs": [
    {
     "data": {
      "text/html": [
       "<div>\n",
       "<style scoped>\n",
       "    .dataframe tbody tr th:only-of-type {\n",
       "        vertical-align: middle;\n",
       "    }\n",
       "\n",
       "    .dataframe tbody tr th {\n",
       "        vertical-align: top;\n",
       "    }\n",
       "\n",
       "    .dataframe thead th {\n",
       "        text-align: right;\n",
       "    }\n",
       "</style>\n",
       "<table border=\"1\" class=\"dataframe\">\n",
       "  <thead>\n",
       "    <tr style=\"text-align: right;\">\n",
       "      <th></th>\n",
       "      <th>Review Length</th>\n",
       "    </tr>\n",
       "    <tr>\n",
       "      <th>score</th>\n",
       "      <th></th>\n",
       "    </tr>\n",
       "  </thead>\n",
       "  <tbody>\n",
       "    <tr>\n",
       "      <th>1</th>\n",
       "      <td>122.609668</td>\n",
       "    </tr>\n",
       "    <tr>\n",
       "      <th>2</th>\n",
       "      <td>145.257381</td>\n",
       "    </tr>\n",
       "    <tr>\n",
       "      <th>3</th>\n",
       "      <td>120.637584</td>\n",
       "    </tr>\n",
       "    <tr>\n",
       "      <th>4</th>\n",
       "      <td>90.273487</td>\n",
       "    </tr>\n",
       "    <tr>\n",
       "      <th>5</th>\n",
       "      <td>58.032798</td>\n",
       "    </tr>\n",
       "  </tbody>\n",
       "</table>\n",
       "</div>"
      ],
      "text/plain": [
       "       Review Length\n",
       "score               \n",
       "1         122.609668\n",
       "2         145.257381\n",
       "3         120.637584\n",
       "4          90.273487\n",
       "5          58.032798"
      ]
     },
     "execution_count": 210,
     "metadata": {},
     "output_type": "execute_result"
    }
   ],
   "source": [
    "frame4['Review Length']=frame4['text'].str.len()\n",
    "answer13=pd.DataFrame(frame4.groupby('score')['Review Length'].mean())\n",
    "answer13"
   ]
  },
  {
   "cell_type": "code",
   "execution_count": 286,
   "metadata": {},
   "outputs": [
    {
     "data": {
      "text/html": [
       "<div>\n",
       "<style scoped>\n",
       "    .dataframe tbody tr th:only-of-type {\n",
       "        vertical-align: middle;\n",
       "    }\n",
       "\n",
       "    .dataframe tbody tr th {\n",
       "        vertical-align: top;\n",
       "    }\n",
       "\n",
       "    .dataframe thead th {\n",
       "        text-align: right;\n",
       "    }\n",
       "</style>\n",
       "<table border=\"1\" class=\"dataframe\">\n",
       "  <thead>\n",
       "    <tr style=\"text-align: right;\">\n",
       "      <th></th>\n",
       "      <th>Number of Apps</th>\n",
       "      <th>Number of Reviews</th>\n",
       "      <th>Review_Mean_Max_Normalize</th>\n",
       "      <th>score</th>\n",
       "      <th>Review Length</th>\n",
       "    </tr>\n",
       "    <tr>\n",
       "      <th>score</th>\n",
       "      <th></th>\n",
       "      <th></th>\n",
       "      <th></th>\n",
       "      <th></th>\n",
       "      <th></th>\n",
       "    </tr>\n",
       "  </thead>\n",
       "  <tbody>\n",
       "    <tr>\n",
       "      <th>1</th>\n",
       "      <td>86</td>\n",
       "      <td>124599</td>\n",
       "      <td>0.229040</td>\n",
       "      <td>1</td>\n",
       "      <td>122.609668</td>\n",
       "    </tr>\n",
       "    <tr>\n",
       "      <th>2</th>\n",
       "      <td>86</td>\n",
       "      <td>30756</td>\n",
       "      <td>0.000000</td>\n",
       "      <td>2</td>\n",
       "      <td>145.257381</td>\n",
       "    </tr>\n",
       "    <tr>\n",
       "      <th>3</th>\n",
       "      <td>86</td>\n",
       "      <td>41949</td>\n",
       "      <td>0.027318</td>\n",
       "      <td>3</td>\n",
       "      <td>120.637584</td>\n",
       "    </tr>\n",
       "    <tr>\n",
       "      <th>4</th>\n",
       "      <td>86</td>\n",
       "      <td>77671</td>\n",
       "      <td>0.114504</td>\n",
       "      <td>4</td>\n",
       "      <td>90.273487</td>\n",
       "    </tr>\n",
       "    <tr>\n",
       "      <th>5</th>\n",
       "      <td>86</td>\n",
       "      <td>440480</td>\n",
       "      <td>1.000000</td>\n",
       "      <td>5</td>\n",
       "      <td>58.032798</td>\n",
       "    </tr>\n",
       "  </tbody>\n",
       "</table>\n",
       "</div>"
      ],
      "text/plain": [
       "       Number of Apps  Number of Reviews  Review_Mean_Max_Normalize  score  \\\n",
       "score                                                                        \n",
       "1                  86             124599                   0.229040      1   \n",
       "2                  86              30756                   0.000000      2   \n",
       "3                  86              41949                   0.027318      3   \n",
       "4                  86              77671                   0.114504      4   \n",
       "5                  86             440480                   1.000000      5   \n",
       "\n",
       "       Review Length  \n",
       "score                 \n",
       "1         122.609668  \n",
       "2         145.257381  \n",
       "3         120.637584  \n",
       "4          90.273487  \n",
       "5          58.032798  "
      ]
     },
     "execution_count": 286,
     "metadata": {},
     "output_type": "execute_result"
    }
   ],
   "source": [
    "answer11_12_13=pd.concat([answer11,answer12,answer13],axis=1)\n",
    "answer11_12_13"
   ]
  },
  {
   "cell_type": "markdown",
   "metadata": {},
   "source": [
    "***\n",
    "#### 14. Compare the average length of reviews in each score-sub-group in the 8 app categories"
   ]
  },
  {
   "cell_type": "code",
   "execution_count": 306,
   "metadata": {},
   "outputs": [
    {
     "data": {
      "image/png": "[encoded data removed]",
      "text/plain": [
       "<Figure size 432x288 with 1 Axes>"
      ]
     },
     "metadata": {
      "needs_background": "light"
     },
     "output_type": "display_data"
    }
   ],
   "source": [
    "import matplotlib.pyplot as plt\n",
    "answer14= pd.DataFrame(frame4.groupby(['category','score'])['Review Length'].mean())\n",
    "answer14.unstack().plot(kind='bar',title=\"The average length of reviews by score sub group\")\n",
    "plt.legend(loc='center left', bbox_to_anchor=(1.0, 0.5))\n",
    "plt.savefig('answer14.png')"
   ]
  },
  {
   "cell_type": "markdown",
   "metadata": {},
   "source": [
    "***\n",
    "#### 15. Compare the number of reviews in each score-sub-group in the 8 app categories"
   ]
  },
  {
   "cell_type": "code",
   "execution_count": 307,
   "metadata": {},
   "outputs": [
    {
     "data": {
      "image/png": "[encoded data removed]",
      "text/plain": [
       "<Figure size 432x288 with 1 Axes>"
      ]
     },
     "metadata": {
      "needs_background": "light"
     },
     "output_type": "display_data"
    }
   ],
   "source": [
    "answer15= pd.DataFrame(frame4.groupby(['category','score'])['text'].count())\n",
    "answer15.unstack().plot(kind='bar',title =  \"The number of reviews in each score-sub-group in the 8 app categories\")\n",
    "plt.legend(loc='center left', bbox_to_anchor=(1.0, 0.5))\n",
    "plt.savefig('answer15.png')"
   ]
  },
  {
   "cell_type": "markdown",
   "metadata": {},
   "source": [
    "***\n",
    "#### 16. Compare the number of apps in each score-sub-group in the 8 app categories"
   ]
  },
  {
   "cell_type": "code",
   "execution_count": 287,
   "metadata": {},
   "outputs": [
    {
     "data": {
      "image/png": "[encoded data removed]",
      "text/plain": [
       "<Figure size 432x288 with 1 Axes>"
      ]
     },
     "metadata": {
      "needs_background": "light"
     },
     "output_type": "display_data"
    }
   ],
   "source": [
    "answer16= pd.DataFrame(frame4.groupby(['category','score'])['appTitle_lower'].nunique())\n",
    "answer16.unstack().plot(kind='bar',title = \"The number of apps in each score-sub-group in the 8 app categories\")\n",
    "plt.legend(loc='center left', bbox_to_anchor=(1.0, 0.5))\n",
    "plt.savefig('answer16.png')"
   ]
  },
  {
   "cell_type": "markdown",
   "metadata": {},
   "source": [
    "***\n",
    "#### 17. Is there any correlation between the length of the reviews and the score in each app-category?"
   ]
  },
  {
   "cell_type": "code",
   "execution_count": 288,
   "metadata": {},
   "outputs": [
    {
     "data": {
      "text/html": [
       "<div>\n",
       "<style scoped>\n",
       "    .dataframe tbody tr th:only-of-type {\n",
       "        vertical-align: middle;\n",
       "    }\n",
       "\n",
       "    .dataframe tbody tr th {\n",
       "        vertical-align: top;\n",
       "    }\n",
       "\n",
       "    .dataframe thead th {\n",
       "        text-align: right;\n",
       "    }\n",
       "</style>\n",
       "<table border=\"1\" class=\"dataframe\">\n",
       "  <thead>\n",
       "    <tr style=\"text-align: right;\">\n",
       "      <th></th>\n",
       "      <th></th>\n",
       "      <th>Review Length</th>\n",
       "    </tr>\n",
       "    <tr>\n",
       "      <th>category</th>\n",
       "      <th></th>\n",
       "      <th></th>\n",
       "    </tr>\n",
       "  </thead>\n",
       "  <tbody>\n",
       "    <tr>\n",
       "      <th>EDUCATION</th>\n",
       "      <th>score</th>\n",
       "      <td>-0.216306</td>\n",
       "    </tr>\n",
       "    <tr>\n",
       "      <th>ENTERTAINMENT</th>\n",
       "      <th>score</th>\n",
       "      <td>-0.283769</td>\n",
       "    </tr>\n",
       "    <tr>\n",
       "      <th>FAMILY</th>\n",
       "      <th>score</th>\n",
       "      <td>-0.180346</td>\n",
       "    </tr>\n",
       "    <tr>\n",
       "      <th>FINANCE</th>\n",
       "      <th>score</th>\n",
       "      <td>-0.433923</td>\n",
       "    </tr>\n",
       "    <tr>\n",
       "      <th>GAME_ACTION</th>\n",
       "      <th>score</th>\n",
       "      <td>-0.237467</td>\n",
       "    </tr>\n",
       "    <tr>\n",
       "      <th>HEALTH_AND_FITNESS</th>\n",
       "      <th>score</th>\n",
       "      <td>-0.286017</td>\n",
       "    </tr>\n",
       "    <tr>\n",
       "      <th>LIFESTYLE</th>\n",
       "      <th>score</th>\n",
       "      <td>-0.278002</td>\n",
       "    </tr>\n",
       "    <tr>\n",
       "      <th>MUSIC_AND_AUDIO</th>\n",
       "      <th>score</th>\n",
       "      <td>-0.351347</td>\n",
       "    </tr>\n",
       "  </tbody>\n",
       "</table>\n",
       "</div>"
      ],
      "text/plain": [
       "                          Review Length\n",
       "category                               \n",
       "EDUCATION          score      -0.216306\n",
       "ENTERTAINMENT      score      -0.283769\n",
       "FAMILY             score      -0.180346\n",
       "FINANCE            score      -0.433923\n",
       "GAME_ACTION        score      -0.237467\n",
       "HEALTH_AND_FITNESS score      -0.286017\n",
       "LIFESTYLE          score      -0.278002\n",
       "MUSIC_AND_AUDIO    score      -0.351347"
      ]
     },
     "execution_count": 288,
     "metadata": {},
     "output_type": "execute_result"
    }
   ],
   "source": [
    "answer17= pd.DataFrame(frame4.groupby('category')[['score','Review Length']].corr().iloc[0::2,-1])\n",
    "answer17"
   ]
  },
  {
   "cell_type": "markdown",
   "metadata": {},
   "source": [
    "From the table we can see that, there is a negative correlation between the length of reviews and the score in each app- category, especially in Finance category.\n"
   ]
  },
  {
   "cell_type": "markdown",
   "metadata": {},
   "source": [
    "***\n",
    "#### 18. Find the evolution/changes of the star rating and length of reviews during time for each app category"
   ]
  },
  {
   "cell_type": "markdown",
   "metadata": {},
   "source": [
    "**We can not use the date column in our database as there are many observations having un date format so we need to extract the date from the file name for this question** "
   ]
  },
  {
   "cell_type": "markdown",
   "metadata": {},
   "source": [
    "**First we need to reload the data newest review to get date information from the file name and attach that to frame4 database**"
   ]
  },
  {
   "cell_type": "code",
   "execution_count": 218,
   "metadata": {},
   "outputs": [
    {
     "data": {
      "text/html": [
       "<div>\n",
       "<style scoped>\n",
       "    .dataframe tbody tr th:only-of-type {\n",
       "        vertical-align: middle;\n",
       "    }\n",
       "\n",
       "    .dataframe tbody tr th {\n",
       "        vertical-align: top;\n",
       "    }\n",
       "\n",
       "    .dataframe thead th {\n",
       "        text-align: right;\n",
       "    }\n",
       "</style>\n",
       "<table border=\"1\" class=\"dataframe\">\n",
       "  <thead>\n",
       "    <tr style=\"text-align: right;\">\n",
       "      <th></th>\n",
       "      <th>appTitle</th>\n",
       "      <th>userName</th>\n",
       "      <th>date</th>\n",
       "      <th>score</th>\n",
       "      <th>text</th>\n",
       "      <th>category</th>\n",
       "      <th>month</th>\n",
       "    </tr>\n",
       "  </thead>\n",
       "  <tbody>\n",
       "    <tr>\n",
       "      <th>0</th>\n",
       "      <td>Photomath</td>\n",
       "      <td>NaN</td>\n",
       "      <td>March 8, 2019</td>\n",
       "      <td>5</td>\n",
       "      <td>nice</td>\n",
       "      <td>EDUCATION</td>\n",
       "      <td>03</td>\n",
       "    </tr>\n",
       "  </tbody>\n",
       "</table>\n",
       "</div>"
      ],
      "text/plain": [
       "    appTitle userName           date  score  text   category month\n",
       "0  Photomath      NaN  March 8, 2019      5  nice  EDUCATION    03"
      ]
     },
     "execution_count": 218,
     "metadata": {},
     "output_type": "execute_result"
    }
   ],
   "source": [
    "# Create the path to the data location\n",
    "path = r'newestreview'\n",
    "all_files = glob.glob(path + \"/*.csv\")\n",
    "\n",
    "# Loading the data file by file and create a column named \"category\"\n",
    "datalist = []\n",
    "for filename in all_files:\n",
    "    # extract the category name from the file name\n",
    "    start = filename.find('FREE')\n",
    "    end=filename.find('_apps.csv')\n",
    "    category = filename[start+5:end]\n",
    "    # extract the month information from the file name:\n",
    "    monthinfo = filename[18:20]\n",
    "    # Loading the data and attach it into the datalist\n",
    "    df = pd.read_csv(filename)\n",
    "    df['category']=category\n",
    "    df['month']= monthinfo\n",
    "    datalist.append(df)\n",
    "    \n",
    "# Merger all the data\n",
    "frame_new = pd.concat(datalist, axis=0, ignore_index=True)\n",
    "frame_new.head(1)\n"
   ]
  },
  {
   "cell_type": "code",
   "execution_count": 219,
   "metadata": {},
   "outputs": [
    {
     "data": {
      "text/html": [
       "<div>\n",
       "<style scoped>\n",
       "    .dataframe tbody tr th:only-of-type {\n",
       "        vertical-align: middle;\n",
       "    }\n",
       "\n",
       "    .dataframe tbody tr th {\n",
       "        vertical-align: top;\n",
       "    }\n",
       "\n",
       "    .dataframe thead th {\n",
       "        text-align: right;\n",
       "    }\n",
       "</style>\n",
       "<table border=\"1\" class=\"dataframe\">\n",
       "  <thead>\n",
       "    <tr style=\"text-align: right;\">\n",
       "      <th></th>\n",
       "      <th>appTitle</th>\n",
       "      <th>userName</th>\n",
       "      <th>date</th>\n",
       "      <th>score</th>\n",
       "      <th>text</th>\n",
       "      <th>category</th>\n",
       "      <th>month</th>\n",
       "    </tr>\n",
       "  </thead>\n",
       "  <tbody>\n",
       "    <tr>\n",
       "      <th>2</th>\n",
       "      <td>Photomath</td>\n",
       "      <td>NaN</td>\n",
       "      <td>March 8, 2019</td>\n",
       "      <td>5</td>\n",
       "      <td>Great App. Detailed answers. Understandable an...</td>\n",
       "      <td>EDUCATION</td>\n",
       "      <td>03</td>\n",
       "    </tr>\n",
       "  </tbody>\n",
       "</table>\n",
       "</div>"
      ],
      "text/plain": [
       "    appTitle userName           date  score  \\\n",
       "2  Photomath      NaN  March 8, 2019      5   \n",
       "\n",
       "                                                text   category month  \n",
       "2  Great App. Detailed answers. Understandable an...  EDUCATION    03  "
      ]
     },
     "execution_count": 219,
     "metadata": {},
     "output_type": "execute_result"
    }
   ],
   "source": [
    "# Removing all the rows which are not relevant\n",
    "index_selection = list(frame4['index'])\n",
    "frame_new=frame_new[frame_new.index.isin(index_selection)]\n",
    "frame_new.head(1)"
   ]
  },
  {
   "cell_type": "code",
   "execution_count": 220,
   "metadata": {},
   "outputs": [],
   "source": [
    "frame5=frame4\n",
    "series1 = list(frame_new['month'])\n",
    "frame5['month']=series1"
   ]
  },
  {
   "cell_type": "code",
   "execution_count": 264,
   "metadata": {},
   "outputs": [
    {
     "data": {
      "image/png": "[encoded data removed]",
      "text/plain": [
       "<Figure size 432x288 with 1 Axes>"
      ]
     },
     "metadata": {
      "needs_background": "light"
     },
     "output_type": "display_data"
    }
   ],
   "source": [
    "answer18=pd.DataFrame(frame5.groupby(['month','category'])['Review Length'].mean())\n",
    "answer18.unstack().plot(kind='bar',title=\"The average the length of reviews during time for each app category\")\n",
    "plt.legend(loc='center left', bbox_to_anchor=(1.0, 0.5))\n",
    "plt.savefig('answer18_review.png')"
   ]
  },
  {
   "cell_type": "code",
   "execution_count": 262,
   "metadata": {},
   "outputs": [
    {
     "data": {
      "image/png": "[encoded data removed]",
      "text/plain": [
       "<Figure size 432x288 with 1 Axes>"
      ]
     },
     "metadata": {
      "needs_background": "light"
     },
     "output_type": "display_data"
    }
   ],
   "source": [
    "answer18_score=pd.DataFrame(frame5.groupby(['month','category'])['score'].mean())\n",
    "answer18_score.unstack().plot(kind='bar',title=\"The average score during time for each app category\")\n",
    "plt.legend(loc='center left', bbox_to_anchor=(1.0, 0.5))\n",
    "plt.savefig('answer18_score.png')"
   ]
  },
  {
   "cell_type": "markdown",
   "metadata": {},
   "source": [
    "***\n",
    "#### 19. Compare your scores among the app categories. Do you see a difference between app categories?"
   ]
  },
  {
   "cell_type": "markdown",
   "metadata": {},
   "source": [
    "**Random select the review**"
   ]
  },
  {
   "cell_type": "code",
   "execution_count": 130,
   "metadata": {},
   "outputs": [],
   "source": [
    "grouprow_list= []\n",
    "categorylist=list(frame5['category'].unique())\n",
    "\n",
    "for i in categorylist:\n",
    "    for j in range(1,6):\n",
    "        grouprow=frame5[(frame5['score']==j) & (frame5['category']==i)].sample(5)\n",
    "        grouprow_list.append(grouprow)\n",
    "        \n",
    "randomreview = pd.concat(grouprow_list, axis=0, ignore_index=True)\n",
    "# the code is hidden to avoid of deleting the existing data\n",
    "#randomreview.to_csv('Question19_ReviewSample.csv')"
   ]
  },
  {
   "cell_type": "code",
   "execution_count": 236,
   "metadata": {},
   "outputs": [
    {
     "data": {
      "text/html": [
       "<div>\n",
       "<style scoped>\n",
       "    .dataframe tbody tr th:only-of-type {\n",
       "        vertical-align: middle;\n",
       "    }\n",
       "\n",
       "    .dataframe tbody tr th {\n",
       "        vertical-align: top;\n",
       "    }\n",
       "\n",
       "    .dataframe thead th {\n",
       "        text-align: right;\n",
       "    }\n",
       "</style>\n",
       "<table border=\"1\" class=\"dataframe\">\n",
       "  <thead>\n",
       "    <tr style=\"text-align: right;\">\n",
       "      <th></th>\n",
       "      <th>Unnamed: 0</th>\n",
       "      <th>index</th>\n",
       "      <th>appTitle</th>\n",
       "      <th>userName</th>\n",
       "      <th>date</th>\n",
       "      <th>score</th>\n",
       "      <th>Sentiment</th>\n",
       "      <th>Constructive</th>\n",
       "      <th>text</th>\n",
       "      <th>category</th>\n",
       "      <th>appTitle_lower</th>\n",
       "      <th>text_org</th>\n",
       "      <th>contentRating</th>\n",
       "      <th>Review Length</th>\n",
       "      <th>month</th>\n",
       "    </tr>\n",
       "  </thead>\n",
       "  <tbody>\n",
       "    <tr>\n",
       "      <th>0</th>\n",
       "      <td>0</td>\n",
       "      <td>23381</td>\n",
       "      <td>Google Classroom</td>\n",
       "      <td>YG ENTERTAINMENT</td>\n",
       "      <td>29-Aug-18</td>\n",
       "      <td>1</td>\n",
       "      <td>-4</td>\n",
       "      <td>3</td>\n",
       "      <td>It did nothing</td>\n",
       "      <td>EDUCATION</td>\n",
       "      <td>google classroom</td>\n",
       "      <td>It did nothing</td>\n",
       "      <td>Everyone</td>\n",
       "      <td>14</td>\n",
       "      <td>3</td>\n",
       "    </tr>\n",
       "  </tbody>\n",
       "</table>\n",
       "</div>"
      ],
      "text/plain": [
       "   Unnamed: 0  index          appTitle          userName       date  score  \\\n",
       "0           0  23381  Google Classroom  YG ENTERTAINMENT  29-Aug-18      1   \n",
       "\n",
       "   Sentiment  Constructive            text   category    appTitle_lower  \\\n",
       "0         -4             3  It did nothing  EDUCATION  google classroom   \n",
       "\n",
       "         text_org contentRating  Review Length  month  \n",
       "0  It did nothing      Everyone             14      3  "
      ]
     },
     "execution_count": 236,
     "metadata": {},
     "output_type": "execute_result"
    }
   ],
   "source": [
    "randomreview_Val = pd.read_csv(\"Question19_ReviewSample - ManualValidation.csv\",header=0)\n",
    "randomreview_Val.head(1)"
   ]
  },
  {
   "cell_type": "code",
   "execution_count": 268,
   "metadata": {},
   "outputs": [
    {
     "data": {
      "image/png": "[encoded data removed]",
      "text/plain": [
       "<Figure size 432x288 with 1 Axes>"
      ]
     },
     "metadata": {
      "needs_background": "light"
     },
     "output_type": "display_data"
    }
   ],
   "source": [
    "import matplotlib.pyplot as plt\n",
    "answer19=pd.DataFrame(randomreview_Val.groupby(['category'])['Sentiment'].mean())\n",
    "answer19.unstack().plot(kind='bar',title=\"Manual Score of Apps by categories\")\n",
    "plt.savefig('answer19.png')"
   ]
  },
  {
   "cell_type": "markdown",
   "metadata": {},
   "source": [
    "**Conclusion**: In average app categories have close sentiment score via the manual rating and quite neutral with the values are close to 0."
   ]
  },
  {
   "cell_type": "markdown",
   "metadata": {},
   "source": [
    "### BACKUP FINAL DATA\n"
   ]
  },
  {
   "cell_type": "code",
   "execution_count": 239,
   "metadata": {},
   "outputs": [],
   "source": [
    "frame5.to_csv(\"Data542_finaldata.csv\")"
   ]
  },
  {
   "cell_type": "markdown",
   "metadata": {},
   "source": [
    "***\n",
    "***"
   ]
  },
  {
   "cell_type": "markdown",
   "metadata": {},
   "source": [
    "# B. RESULT SUMMARY"
   ]
  },
  {
   "cell_type": "markdown",
   "metadata": {},
   "source": [
    "#### 1. Drop duplicates and record how many unique reviews are collected?"
   ]
  },
  {
   "cell_type": "code",
   "execution_count": 240,
   "metadata": {},
   "outputs": [
    {
     "name": "stdout",
     "output_type": "stream",
     "text": [
      "Number of unique review in the data: 1141198\n"
     ]
    }
   ],
   "source": [
    "print(\"Number of unique review in the data:\",answer1)"
   ]
  },
  {
   "cell_type": "markdown",
   "metadata": {},
   "source": [
    "#### 2a. How many unique apps are in the dataset?"
   ]
  },
  {
   "cell_type": "code",
   "execution_count": 241,
   "metadata": {},
   "outputs": [
    {
     "name": "stdout",
     "output_type": "stream",
     "text": [
      "NUMBER UNIQUE APPS: 87\n"
     ]
    }
   ],
   "source": [
    "print(\"NUMBER UNIQUE APPS:\",answer2a)"
   ]
  },
  {
   "cell_type": "markdown",
   "metadata": {},
   "source": [
    "#### 2b. How many apps in each of the 8 specified app categories?\n",
    "#### 3. How many reviews exist in each of the eight app-categories?"
   ]
  },
  {
   "cell_type": "code",
   "execution_count": 242,
   "metadata": {},
   "outputs": [
    {
     "data": {
      "text/html": [
       "<div>\n",
       "<style scoped>\n",
       "    .dataframe tbody tr th:only-of-type {\n",
       "        vertical-align: middle;\n",
       "    }\n",
       "\n",
       "    .dataframe tbody tr th {\n",
       "        vertical-align: top;\n",
       "    }\n",
       "\n",
       "    .dataframe thead th {\n",
       "        text-align: right;\n",
       "    }\n",
       "</style>\n",
       "<table border=\"1\" class=\"dataframe\">\n",
       "  <thead>\n",
       "    <tr style=\"text-align: right;\">\n",
       "      <th></th>\n",
       "      <th>Number_Apps_before_Test_Processing</th>\n",
       "      <th>Number_Review_before_Test_Processing</th>\n",
       "    </tr>\n",
       "    <tr>\n",
       "      <th>category</th>\n",
       "      <th></th>\n",
       "      <th></th>\n",
       "    </tr>\n",
       "  </thead>\n",
       "  <tbody>\n",
       "    <tr>\n",
       "      <th>EDUCATION</th>\n",
       "      <td>10</td>\n",
       "      <td>95916</td>\n",
       "    </tr>\n",
       "    <tr>\n",
       "      <th>ENTERTAINMENT</th>\n",
       "      <td>13</td>\n",
       "      <td>183518</td>\n",
       "    </tr>\n",
       "    <tr>\n",
       "      <th>FAMILY</th>\n",
       "      <td>10</td>\n",
       "      <td>125318</td>\n",
       "    </tr>\n",
       "    <tr>\n",
       "      <th>FINANCE</th>\n",
       "      <td>10</td>\n",
       "      <td>141158</td>\n",
       "    </tr>\n",
       "    <tr>\n",
       "      <th>GAME_ACTION</th>\n",
       "      <td>11</td>\n",
       "      <td>209497</td>\n",
       "    </tr>\n",
       "    <tr>\n",
       "      <th>HEALTH_AND_FITNESS</th>\n",
       "      <td>10</td>\n",
       "      <td>109865</td>\n",
       "    </tr>\n",
       "    <tr>\n",
       "      <th>LIFESTYLE</th>\n",
       "      <td>12</td>\n",
       "      <td>102945</td>\n",
       "    </tr>\n",
       "    <tr>\n",
       "      <th>MUSIC_AND_AUDIO</th>\n",
       "      <td>11</td>\n",
       "      <td>172981</td>\n",
       "    </tr>\n",
       "  </tbody>\n",
       "</table>\n",
       "</div>"
      ],
      "text/plain": [
       "                    Number_Apps_before_Test_Processing  \\\n",
       "category                                                 \n",
       "EDUCATION                                           10   \n",
       "ENTERTAINMENT                                       13   \n",
       "FAMILY                                              10   \n",
       "FINANCE                                             10   \n",
       "GAME_ACTION                                         11   \n",
       "HEALTH_AND_FITNESS                                  10   \n",
       "LIFESTYLE                                           12   \n",
       "MUSIC_AND_AUDIO                                     11   \n",
       "\n",
       "                    Number_Review_before_Test_Processing  \n",
       "category                                                  \n",
       "EDUCATION                                          95916  \n",
       "ENTERTAINMENT                                     183518  \n",
       "FAMILY                                            125318  \n",
       "FINANCE                                           141158  \n",
       "GAME_ACTION                                       209497  \n",
       "HEALTH_AND_FITNESS                                109865  \n",
       "LIFESTYLE                                         102945  \n",
       "MUSIC_AND_AUDIO                                   172981  "
      ]
     },
     "execution_count": 242,
     "metadata": {},
     "output_type": "execute_result"
    }
   ],
   "source": [
    "answer2b_3"
   ]
  },
  {
   "cell_type": "markdown",
   "metadata": {},
   "source": [
    "#### 4. What are the different contentRating groups in each app-category?"
   ]
  },
  {
   "cell_type": "code",
   "execution_count": 270,
   "metadata": {},
   "outputs": [
    {
     "data": {
      "text/html": [
       "<div>\n",
       "<style scoped>\n",
       "    .dataframe tbody tr th:only-of-type {\n",
       "        vertical-align: middle;\n",
       "    }\n",
       "\n",
       "    .dataframe tbody tr th {\n",
       "        vertical-align: top;\n",
       "    }\n",
       "\n",
       "    .dataframe thead th {\n",
       "        text-align: right;\n",
       "    }\n",
       "</style>\n",
       "<table border=\"1\" class=\"dataframe\">\n",
       "  <thead>\n",
       "    <tr style=\"text-align: right;\">\n",
       "      <th></th>\n",
       "      <th>Content Rating</th>\n",
       "    </tr>\n",
       "    <tr>\n",
       "      <th>category</th>\n",
       "      <th></th>\n",
       "    </tr>\n",
       "  </thead>\n",
       "  <tbody>\n",
       "    <tr>\n",
       "      <th>EDUCATION</th>\n",
       "      <td>[Everyone]</td>\n",
       "    </tr>\n",
       "    <tr>\n",
       "      <th>ENTERTAINMENT</th>\n",
       "      <td>[Teen, Everyone, Mature 17+]</td>\n",
       "    </tr>\n",
       "    <tr>\n",
       "      <th>FAMILY</th>\n",
       "      <td>[Everyone 10+, Everyone]</td>\n",
       "    </tr>\n",
       "    <tr>\n",
       "      <th>FINANCE</th>\n",
       "      <td>[Everyone]</td>\n",
       "    </tr>\n",
       "    <tr>\n",
       "      <th>GAME_ACTION</th>\n",
       "      <td>[Everyone, Teen, Mature 17+]</td>\n",
       "    </tr>\n",
       "    <tr>\n",
       "      <th>HEALTH_AND_FITNESS</th>\n",
       "      <td>[Everyone]</td>\n",
       "    </tr>\n",
       "    <tr>\n",
       "      <th>LIFESTYLE</th>\n",
       "      <td>[Everyone, Mature 17+, Teen]</td>\n",
       "    </tr>\n",
       "    <tr>\n",
       "      <th>MUSIC_AND_AUDIO</th>\n",
       "      <td>[Teen, Everyone]</td>\n",
       "    </tr>\n",
       "  </tbody>\n",
       "</table>\n",
       "</div>"
      ],
      "text/plain": [
       "                                  Content Rating\n",
       "category                                        \n",
       "EDUCATION                             [Everyone]\n",
       "ENTERTAINMENT       [Teen, Everyone, Mature 17+]\n",
       "FAMILY                  [Everyone 10+, Everyone]\n",
       "FINANCE                               [Everyone]\n",
       "GAME_ACTION         [Everyone, Teen, Mature 17+]\n",
       "HEALTH_AND_FITNESS                    [Everyone]\n",
       "LIFESTYLE           [Everyone, Mature 17+, Teen]\n",
       "MUSIC_AND_AUDIO                 [Teen, Everyone]"
      ]
     },
     "execution_count": 270,
     "metadata": {},
     "output_type": "execute_result"
    }
   ],
   "source": [
    "answer4"
   ]
  },
  {
   "cell_type": "markdown",
   "metadata": {},
   "source": [
    "#### 5. How many apps exist in each of these contentRating-sub-groups in each app-category?\n",
    "#### 6. How many reviews in each contentRating-sub-groups in each app-category"
   ]
  },
  {
   "cell_type": "code",
   "execution_count": 245,
   "metadata": {},
   "outputs": [
    {
     "data": {
      "text/html": [
       "<div>\n",
       "<style scoped>\n",
       "    .dataframe tbody tr th:only-of-type {\n",
       "        vertical-align: middle;\n",
       "    }\n",
       "\n",
       "    .dataframe tbody tr th {\n",
       "        vertical-align: top;\n",
       "    }\n",
       "\n",
       "    .dataframe thead th {\n",
       "        text-align: right;\n",
       "    }\n",
       "</style>\n",
       "<table border=\"1\" class=\"dataframe\">\n",
       "  <thead>\n",
       "    <tr style=\"text-align: right;\">\n",
       "      <th></th>\n",
       "      <th></th>\n",
       "      <th>Number_Apps_before_Test_Processing</th>\n",
       "      <th>Number_Review_before_Test_Processing</th>\n",
       "    </tr>\n",
       "    <tr>\n",
       "      <th>category</th>\n",
       "      <th>contentRating</th>\n",
       "      <th></th>\n",
       "      <th></th>\n",
       "    </tr>\n",
       "  </thead>\n",
       "  <tbody>\n",
       "    <tr>\n",
       "      <th>EDUCATION</th>\n",
       "      <th>Everyone</th>\n",
       "      <td>10</td>\n",
       "      <td>95916</td>\n",
       "    </tr>\n",
       "    <tr>\n",
       "      <th rowspan=\"3\" valign=\"top\">ENTERTAINMENT</th>\n",
       "      <th>Everyone</th>\n",
       "      <td>4</td>\n",
       "      <td>14377</td>\n",
       "    </tr>\n",
       "    <tr>\n",
       "      <th>Mature 17+</th>\n",
       "      <td>1</td>\n",
       "      <td>7278</td>\n",
       "    </tr>\n",
       "    <tr>\n",
       "      <th>Teen</th>\n",
       "      <td>8</td>\n",
       "      <td>161853</td>\n",
       "    </tr>\n",
       "    <tr>\n",
       "      <th rowspan=\"2\" valign=\"top\">FAMILY</th>\n",
       "      <th>Everyone</th>\n",
       "      <td>7</td>\n",
       "      <td>77211</td>\n",
       "    </tr>\n",
       "    <tr>\n",
       "      <th>Everyone 10+</th>\n",
       "      <td>3</td>\n",
       "      <td>48107</td>\n",
       "    </tr>\n",
       "    <tr>\n",
       "      <th>FINANCE</th>\n",
       "      <th>Everyone</th>\n",
       "      <td>10</td>\n",
       "      <td>141129</td>\n",
       "    </tr>\n",
       "    <tr>\n",
       "      <th rowspan=\"3\" valign=\"top\">GAME_ACTION</th>\n",
       "      <th>Everyone</th>\n",
       "      <td>5</td>\n",
       "      <td>87560</td>\n",
       "    </tr>\n",
       "    <tr>\n",
       "      <th>Mature 17+</th>\n",
       "      <td>2</td>\n",
       "      <td>29359</td>\n",
       "    </tr>\n",
       "    <tr>\n",
       "      <th>Teen</th>\n",
       "      <td>4</td>\n",
       "      <td>92574</td>\n",
       "    </tr>\n",
       "    <tr>\n",
       "      <th>HEALTH_AND_FITNESS</th>\n",
       "      <th>Everyone</th>\n",
       "      <td>10</td>\n",
       "      <td>109859</td>\n",
       "    </tr>\n",
       "    <tr>\n",
       "      <th rowspan=\"3\" valign=\"top\">LIFESTYLE</th>\n",
       "      <th>Everyone</th>\n",
       "      <td>10</td>\n",
       "      <td>78200</td>\n",
       "    </tr>\n",
       "    <tr>\n",
       "      <th>Mature 17+</th>\n",
       "      <td>1</td>\n",
       "      <td>21716</td>\n",
       "    </tr>\n",
       "    <tr>\n",
       "      <th>Teen</th>\n",
       "      <td>1</td>\n",
       "      <td>3012</td>\n",
       "    </tr>\n",
       "    <tr>\n",
       "      <th rowspan=\"2\" valign=\"top\">MUSIC_AND_AUDIO</th>\n",
       "      <th>Everyone</th>\n",
       "      <td>2</td>\n",
       "      <td>22754</td>\n",
       "    </tr>\n",
       "    <tr>\n",
       "      <th>Teen</th>\n",
       "      <td>9</td>\n",
       "      <td>150219</td>\n",
       "    </tr>\n",
       "  </tbody>\n",
       "</table>\n",
       "</div>"
      ],
      "text/plain": [
       "                                  Number_Apps_before_Test_Processing  \\\n",
       "category           contentRating                                       \n",
       "EDUCATION          Everyone                                       10   \n",
       "ENTERTAINMENT      Everyone                                        4   \n",
       "                   Mature 17+                                      1   \n",
       "                   Teen                                            8   \n",
       "FAMILY             Everyone                                        7   \n",
       "                   Everyone 10+                                    3   \n",
       "FINANCE            Everyone                                       10   \n",
       "GAME_ACTION        Everyone                                        5   \n",
       "                   Mature 17+                                      2   \n",
       "                   Teen                                            4   \n",
       "HEALTH_AND_FITNESS Everyone                                       10   \n",
       "LIFESTYLE          Everyone                                       10   \n",
       "                   Mature 17+                                      1   \n",
       "                   Teen                                            1   \n",
       "MUSIC_AND_AUDIO    Everyone                                        2   \n",
       "                   Teen                                            9   \n",
       "\n",
       "                                  Number_Review_before_Test_Processing  \n",
       "category           contentRating                                        \n",
       "EDUCATION          Everyone                                      95916  \n",
       "ENTERTAINMENT      Everyone                                      14377  \n",
       "                   Mature 17+                                     7278  \n",
       "                   Teen                                         161853  \n",
       "FAMILY             Everyone                                      77211  \n",
       "                   Everyone 10+                                  48107  \n",
       "FINANCE            Everyone                                     141129  \n",
       "GAME_ACTION        Everyone                                      87560  \n",
       "                   Mature 17+                                    29359  \n",
       "                   Teen                                          92574  \n",
       "HEALTH_AND_FITNESS Everyone                                     109859  \n",
       "LIFESTYLE          Everyone                                      78200  \n",
       "                   Mature 17+                                    21716  \n",
       "                   Teen                                           3012  \n",
       "MUSIC_AND_AUDIO    Everyone                                      22754  \n",
       "                   Teen                                         150219  "
      ]
     },
     "execution_count": 245,
     "metadata": {},
     "output_type": "execute_result"
    }
   ],
   "source": [
    "answer5_6"
   ]
  },
  {
   "cell_type": "markdown",
   "metadata": {},
   "source": [
    "#### 7a. Should we remove the reviews that contain two or less number of words?"
   ]
  },
  {
   "cell_type": "markdown",
   "metadata": {},
   "source": [
    "* 1. It is possible for us to consider remove the reviews only containing two or less words. Due to the fact there are many scam reviews which can be made by the owers to promote the product or the competitors to degrade it.  \n",
    "\n",
    "* 2. Besides the above reasons, one another reason is that if someone give a genuine review about a product with 5 stars or 1 stars, they usually have a long comment to express good/bad feeling about the product.\n",
    "If a customer has no impression with the product, their review is utterly short. Therefore I suggest that we should remove less-than-two-word comments for 1-score and 5-score groups"
   ]
  },
  {
   "cell_type": "markdown",
   "metadata": {},
   "source": [
    "#### 7b Remove the reviews that have two or less number of words\n",
    "Implemented before the remove non-English review to reducing the work load for langid run. The code below is used to removed the short reviews\n",
    "The code is in hidden mode to avoid of running accidentally."
   ]
  },
  {
   "cell_type": "code",
   "execution_count": null,
   "metadata": {},
   "outputs": [],
   "source": [
    "#def countword(x):\n",
    "#    return len(x.split(\" \")) \n",
    "#shortreview_index = frame2[frame2['text'].map(countword)<3].index.tolist()\n",
    "#frame3=frame2.drop(shortreview_index)"
   ]
  },
  {
   "cell_type": "markdown",
   "metadata": {},
   "source": [
    "#### 8. How many reviews exist in each of the eight app-categories?"
   ]
  },
  {
   "cell_type": "code",
   "execution_count": 304,
   "metadata": {},
   "outputs": [
    {
     "data": {
      "text/html": [
       "<div>\n",
       "<style scoped>\n",
       "    .dataframe tbody tr th:only-of-type {\n",
       "        vertical-align: middle;\n",
       "    }\n",
       "\n",
       "    .dataframe tbody tr th {\n",
       "        vertical-align: top;\n",
       "    }\n",
       "\n",
       "    .dataframe thead th {\n",
       "        text-align: right;\n",
       "    }\n",
       "</style>\n",
       "<table border=\"1\" class=\"dataframe\">\n",
       "  <thead>\n",
       "    <tr style=\"text-align: right;\">\n",
       "      <th></th>\n",
       "      <th>Number_Review_after_Test_Processing</th>\n",
       "      <th>Number_Review_before_Test_Processing</th>\n",
       "      <th>Deducing Ratio</th>\n",
       "    </tr>\n",
       "    <tr>\n",
       "      <th>category</th>\n",
       "      <th></th>\n",
       "      <th></th>\n",
       "      <th></th>\n",
       "    </tr>\n",
       "  </thead>\n",
       "  <tbody>\n",
       "    <tr>\n",
       "      <th>EDUCATION</th>\n",
       "      <td>67025</td>\n",
       "      <td>95916</td>\n",
       "      <td>0.301211</td>\n",
       "    </tr>\n",
       "    <tr>\n",
       "      <th>ENTERTAINMENT</th>\n",
       "      <td>103619</td>\n",
       "      <td>183518</td>\n",
       "      <td>0.435374</td>\n",
       "    </tr>\n",
       "    <tr>\n",
       "      <th>FAMILY</th>\n",
       "      <td>86410</td>\n",
       "      <td>125318</td>\n",
       "      <td>0.310474</td>\n",
       "    </tr>\n",
       "    <tr>\n",
       "      <th>FINANCE</th>\n",
       "      <td>93488</td>\n",
       "      <td>141158</td>\n",
       "      <td>0.337707</td>\n",
       "    </tr>\n",
       "    <tr>\n",
       "      <th>GAME_ACTION</th>\n",
       "      <td>109645</td>\n",
       "      <td>209497</td>\n",
       "      <td>0.476627</td>\n",
       "    </tr>\n",
       "    <tr>\n",
       "      <th>HEALTH_AND_FITNESS</th>\n",
       "      <td>77215</td>\n",
       "      <td>109865</td>\n",
       "      <td>0.297183</td>\n",
       "    </tr>\n",
       "    <tr>\n",
       "      <th>LIFESTYLE</th>\n",
       "      <td>65887</td>\n",
       "      <td>102945</td>\n",
       "      <td>0.359979</td>\n",
       "    </tr>\n",
       "    <tr>\n",
       "      <th>MUSIC_AND_AUDIO</th>\n",
       "      <td>112166</td>\n",
       "      <td>172981</td>\n",
       "      <td>0.351570</td>\n",
       "    </tr>\n",
       "  </tbody>\n",
       "</table>\n",
       "</div>"
      ],
      "text/plain": [
       "                    Number_Review_after_Test_Processing  \\\n",
       "category                                                  \n",
       "EDUCATION                                         67025   \n",
       "ENTERTAINMENT                                    103619   \n",
       "FAMILY                                            86410   \n",
       "FINANCE                                           93488   \n",
       "GAME_ACTION                                      109645   \n",
       "HEALTH_AND_FITNESS                                77215   \n",
       "LIFESTYLE                                         65887   \n",
       "MUSIC_AND_AUDIO                                  112166   \n",
       "\n",
       "                    Number_Review_before_Test_Processing  Deducing Ratio  \n",
       "category                                                                  \n",
       "EDUCATION                                          95916        0.301211  \n",
       "ENTERTAINMENT                                     183518        0.435374  \n",
       "FAMILY                                            125318        0.310474  \n",
       "FINANCE                                           141158        0.337707  \n",
       "GAME_ACTION                                       209497        0.476627  \n",
       "HEALTH_AND_FITNESS                                109865        0.297183  \n",
       "LIFESTYLE                                         102945        0.359979  \n",
       "MUSIC_AND_AUDIO                                   172981        0.351570  "
      ]
     },
     "execution_count": 304,
     "metadata": {},
     "output_type": "execute_result"
    }
   ],
   "source": [
    "answer8"
   ]
  },
  {
   "cell_type": "markdown",
   "metadata": {},
   "source": [
    "#### 9. How many reviews in each contentRating-sub-groups in each app-category"
   ]
  },
  {
   "cell_type": "code",
   "execution_count": 303,
   "metadata": {},
   "outputs": [
    {
     "data": {
      "text/html": [
       "<div>\n",
       "<style scoped>\n",
       "    .dataframe tbody tr th:only-of-type {\n",
       "        vertical-align: middle;\n",
       "    }\n",
       "\n",
       "    .dataframe tbody tr th {\n",
       "        vertical-align: top;\n",
       "    }\n",
       "\n",
       "    .dataframe thead th {\n",
       "        text-align: right;\n",
       "    }\n",
       "</style>\n",
       "<table border=\"1\" class=\"dataframe\">\n",
       "  <thead>\n",
       "    <tr style=\"text-align: right;\">\n",
       "      <th></th>\n",
       "      <th></th>\n",
       "      <th>Number_Review_after_Test_Processing</th>\n",
       "      <th>Number_Review_before_Test_Processing</th>\n",
       "      <th>Deducing Ratio</th>\n",
       "    </tr>\n",
       "    <tr>\n",
       "      <th>category</th>\n",
       "      <th>contentRating</th>\n",
       "      <th></th>\n",
       "      <th></th>\n",
       "      <th></th>\n",
       "    </tr>\n",
       "  </thead>\n",
       "  <tbody>\n",
       "    <tr>\n",
       "      <th>EDUCATION</th>\n",
       "      <th>Everyone</th>\n",
       "      <td>67025</td>\n",
       "      <td>95916</td>\n",
       "      <td>0.301211</td>\n",
       "    </tr>\n",
       "    <tr>\n",
       "      <th rowspan=\"3\" valign=\"top\">ENTERTAINMENT</th>\n",
       "      <th>Everyone</th>\n",
       "      <td>9924</td>\n",
       "      <td>14377</td>\n",
       "      <td>0.309731</td>\n",
       "    </tr>\n",
       "    <tr>\n",
       "      <th>Mature 17+</th>\n",
       "      <td>4742</td>\n",
       "      <td>7278</td>\n",
       "      <td>0.348447</td>\n",
       "    </tr>\n",
       "    <tr>\n",
       "      <th>Teen</th>\n",
       "      <td>88953</td>\n",
       "      <td>161853</td>\n",
       "      <td>0.450409</td>\n",
       "    </tr>\n",
       "    <tr>\n",
       "      <th rowspan=\"2\" valign=\"top\">FAMILY</th>\n",
       "      <th>Everyone</th>\n",
       "      <td>50790</td>\n",
       "      <td>77211</td>\n",
       "      <td>0.342192</td>\n",
       "    </tr>\n",
       "    <tr>\n",
       "      <th>Everyone 10+</th>\n",
       "      <td>35620</td>\n",
       "      <td>48107</td>\n",
       "      <td>0.259567</td>\n",
       "    </tr>\n",
       "    <tr>\n",
       "      <th>FINANCE</th>\n",
       "      <th>Everyone</th>\n",
       "      <td>93488</td>\n",
       "      <td>141129</td>\n",
       "      <td>0.337571</td>\n",
       "    </tr>\n",
       "    <tr>\n",
       "      <th rowspan=\"3\" valign=\"top\">GAME_ACTION</th>\n",
       "      <th>Everyone</th>\n",
       "      <td>52603</td>\n",
       "      <td>87560</td>\n",
       "      <td>0.399235</td>\n",
       "    </tr>\n",
       "    <tr>\n",
       "      <th>Mature 17+</th>\n",
       "      <td>11148</td>\n",
       "      <td>29359</td>\n",
       "      <td>0.620287</td>\n",
       "    </tr>\n",
       "    <tr>\n",
       "      <th>Teen</th>\n",
       "      <td>45894</td>\n",
       "      <td>92574</td>\n",
       "      <td>0.504245</td>\n",
       "    </tr>\n",
       "    <tr>\n",
       "      <th>HEALTH_AND_FITNESS</th>\n",
       "      <th>Everyone</th>\n",
       "      <td>77215</td>\n",
       "      <td>109859</td>\n",
       "      <td>0.297145</td>\n",
       "    </tr>\n",
       "    <tr>\n",
       "      <th rowspan=\"3\" valign=\"top\">LIFESTYLE</th>\n",
       "      <th>Everyone</th>\n",
       "      <td>50068</td>\n",
       "      <td>78200</td>\n",
       "      <td>0.359744</td>\n",
       "    </tr>\n",
       "    <tr>\n",
       "      <th>Mature 17+</th>\n",
       "      <td>13814</td>\n",
       "      <td>21716</td>\n",
       "      <td>0.363879</td>\n",
       "    </tr>\n",
       "    <tr>\n",
       "      <th>Teen</th>\n",
       "      <td>2005</td>\n",
       "      <td>3012</td>\n",
       "      <td>0.334329</td>\n",
       "    </tr>\n",
       "    <tr>\n",
       "      <th rowspan=\"2\" valign=\"top\">MUSIC_AND_AUDIO</th>\n",
       "      <th>Everyone</th>\n",
       "      <td>15403</td>\n",
       "      <td>22754</td>\n",
       "      <td>0.323064</td>\n",
       "    </tr>\n",
       "    <tr>\n",
       "      <th>Teen</th>\n",
       "      <td>96763</td>\n",
       "      <td>150219</td>\n",
       "      <td>0.355854</td>\n",
       "    </tr>\n",
       "  </tbody>\n",
       "</table>\n",
       "</div>"
      ],
      "text/plain": [
       "                                  Number_Review_after_Test_Processing  \\\n",
       "category           contentRating                                        \n",
       "EDUCATION          Everyone                                     67025   \n",
       "ENTERTAINMENT      Everyone                                      9924   \n",
       "                   Mature 17+                                    4742   \n",
       "                   Teen                                         88953   \n",
       "FAMILY             Everyone                                     50790   \n",
       "                   Everyone 10+                                 35620   \n",
       "FINANCE            Everyone                                     93488   \n",
       "GAME_ACTION        Everyone                                     52603   \n",
       "                   Mature 17+                                   11148   \n",
       "                   Teen                                         45894   \n",
       "HEALTH_AND_FITNESS Everyone                                     77215   \n",
       "LIFESTYLE          Everyone                                     50068   \n",
       "                   Mature 17+                                   13814   \n",
       "                   Teen                                          2005   \n",
       "MUSIC_AND_AUDIO    Everyone                                     15403   \n",
       "                   Teen                                         96763   \n",
       "\n",
       "                                  Number_Review_before_Test_Processing  \\\n",
       "category           contentRating                                         \n",
       "EDUCATION          Everyone                                      95916   \n",
       "ENTERTAINMENT      Everyone                                      14377   \n",
       "                   Mature 17+                                     7278   \n",
       "                   Teen                                         161853   \n",
       "FAMILY             Everyone                                      77211   \n",
       "                   Everyone 10+                                  48107   \n",
       "FINANCE            Everyone                                     141129   \n",
       "GAME_ACTION        Everyone                                      87560   \n",
       "                   Mature 17+                                    29359   \n",
       "                   Teen                                          92574   \n",
       "HEALTH_AND_FITNESS Everyone                                     109859   \n",
       "LIFESTYLE          Everyone                                      78200   \n",
       "                   Mature 17+                                    21716   \n",
       "                   Teen                                           3012   \n",
       "MUSIC_AND_AUDIO    Everyone                                      22754   \n",
       "                   Teen                                         150219   \n",
       "\n",
       "                                  Deducing Ratio  \n",
       "category           contentRating                  \n",
       "EDUCATION          Everyone             0.301211  \n",
       "ENTERTAINMENT      Everyone             0.309731  \n",
       "                   Mature 17+           0.348447  \n",
       "                   Teen                 0.450409  \n",
       "FAMILY             Everyone             0.342192  \n",
       "                   Everyone 10+         0.259567  \n",
       "FINANCE            Everyone             0.337571  \n",
       "GAME_ACTION        Everyone             0.399235  \n",
       "                   Mature 17+           0.620287  \n",
       "                   Teen                 0.504245  \n",
       "HEALTH_AND_FITNESS Everyone             0.297145  \n",
       "LIFESTYLE          Everyone             0.359744  \n",
       "                   Mature 17+           0.363879  \n",
       "                   Teen                 0.334329  \n",
       "MUSIC_AND_AUDIO    Everyone             0.323064  \n",
       "                   Teen                 0.355854  "
      ]
     },
     "execution_count": 303,
     "metadata": {},
     "output_type": "execute_result"
    }
   ],
   "source": [
    "answer9"
   ]
  },
  {
   "cell_type": "markdown",
   "metadata": {},
   "source": [
    "#### 10. What is the number of reviews for each score (score column)? "
   ]
  },
  {
   "cell_type": "code",
   "execution_count": 302,
   "metadata": {},
   "outputs": [
    {
     "data": {
      "text/html": [
       "<div>\n",
       "<style scoped>\n",
       "    .dataframe tbody tr th:only-of-type {\n",
       "        vertical-align: middle;\n",
       "    }\n",
       "\n",
       "    .dataframe tbody tr th {\n",
       "        vertical-align: top;\n",
       "    }\n",
       "\n",
       "    .dataframe thead th {\n",
       "        text-align: right;\n",
       "    }\n",
       "</style>\n",
       "<table border=\"1\" class=\"dataframe\">\n",
       "  <thead>\n",
       "    <tr style=\"text-align: right;\">\n",
       "      <th></th>\n",
       "      <th>Number of Reviews</th>\n",
       "    </tr>\n",
       "    <tr>\n",
       "      <th>score</th>\n",
       "      <th></th>\n",
       "    </tr>\n",
       "  </thead>\n",
       "  <tbody>\n",
       "    <tr>\n",
       "      <th>1</th>\n",
       "      <td>124599</td>\n",
       "    </tr>\n",
       "    <tr>\n",
       "      <th>2</th>\n",
       "      <td>30756</td>\n",
       "    </tr>\n",
       "    <tr>\n",
       "      <th>3</th>\n",
       "      <td>41949</td>\n",
       "    </tr>\n",
       "    <tr>\n",
       "      <th>4</th>\n",
       "      <td>77671</td>\n",
       "    </tr>\n",
       "    <tr>\n",
       "      <th>5</th>\n",
       "      <td>440480</td>\n",
       "    </tr>\n",
       "  </tbody>\n",
       "</table>\n",
       "</div>"
      ],
      "text/plain": [
       "       Number of Reviews\n",
       "score                   \n",
       "1                 124599\n",
       "2                  30756\n",
       "3                  41949\n",
       "4                  77671\n",
       "5                 440480"
      ]
     },
     "execution_count": 302,
     "metadata": {},
     "output_type": "execute_result"
    }
   ],
   "source": [
    "answer10"
   ]
  },
  {
   "cell_type": "markdown",
   "metadata": {},
   "source": [
    "####  11. How many apps exist in each score-sub-group?"
   ]
  },
  {
   "cell_type": "code",
   "execution_count": 299,
   "metadata": {},
   "outputs": [
    {
     "data": {
      "text/html": [
       "<div>\n",
       "<style scoped>\n",
       "    .dataframe tbody tr th:only-of-type {\n",
       "        vertical-align: middle;\n",
       "    }\n",
       "\n",
       "    .dataframe tbody tr th {\n",
       "        vertical-align: top;\n",
       "    }\n",
       "\n",
       "    .dataframe thead th {\n",
       "        text-align: right;\n",
       "    }\n",
       "</style>\n",
       "<table border=\"1\" class=\"dataframe\">\n",
       "  <thead>\n",
       "    <tr style=\"text-align: right;\">\n",
       "      <th></th>\n",
       "      <th>Number of Apps</th>\n",
       "    </tr>\n",
       "    <tr>\n",
       "      <th>score</th>\n",
       "      <th></th>\n",
       "    </tr>\n",
       "  </thead>\n",
       "  <tbody>\n",
       "    <tr>\n",
       "      <th>1</th>\n",
       "      <td>86</td>\n",
       "    </tr>\n",
       "    <tr>\n",
       "      <th>2</th>\n",
       "      <td>86</td>\n",
       "    </tr>\n",
       "    <tr>\n",
       "      <th>3</th>\n",
       "      <td>86</td>\n",
       "    </tr>\n",
       "    <tr>\n",
       "      <th>4</th>\n",
       "      <td>86</td>\n",
       "    </tr>\n",
       "    <tr>\n",
       "      <th>5</th>\n",
       "      <td>86</td>\n",
       "    </tr>\n",
       "  </tbody>\n",
       "</table>\n",
       "</div>"
      ],
      "text/plain": [
       "       Number of Apps\n",
       "score                \n",
       "1                  86\n",
       "2                  86\n",
       "3                  86\n",
       "4                  86\n",
       "5                  86"
      ]
     },
     "execution_count": 299,
     "metadata": {},
     "output_type": "execute_result"
    }
   ],
   "source": [
    "answer11"
   ]
  },
  {
   "cell_type": "markdown",
   "metadata": {},
   "source": [
    "#### 12. Compare the number of reviews for each score in a plot (Remember to normalize the numbers when you are comparing them)."
   ]
  },
  {
   "cell_type": "code",
   "execution_count": 300,
   "metadata": {},
   "outputs": [
    {
     "data": {
      "text/plain": [
       "<matplotlib.axes._subplots.AxesSubplot at 0x1d86c282cf8>"
      ]
     },
     "execution_count": 300,
     "metadata": {},
     "output_type": "execute_result"
    },
    {
     "data": {
      "image/png": "[encoded data removed]",
      "text/plain": [
       "<Figure size 432x288 with 1 Axes>"
      ]
     },
     "metadata": {
      "needs_background": "light"
     },
     "output_type": "display_data"
    }
   ],
   "source": [
    "answer12.plot.bar(x='score',y='Review_Mean_Max_Normalize')"
   ]
  },
  {
   "cell_type": "markdown",
   "metadata": {},
   "source": [
    "#### 13. What is the average length of the reviews in each score-sub-group?"
   ]
  },
  {
   "cell_type": "code",
   "execution_count": 305,
   "metadata": {},
   "outputs": [
    {
     "data": {
      "text/html": [
       "<div>\n",
       "<style scoped>\n",
       "    .dataframe tbody tr th:only-of-type {\n",
       "        vertical-align: middle;\n",
       "    }\n",
       "\n",
       "    .dataframe tbody tr th {\n",
       "        vertical-align: top;\n",
       "    }\n",
       "\n",
       "    .dataframe thead th {\n",
       "        text-align: right;\n",
       "    }\n",
       "</style>\n",
       "<table border=\"1\" class=\"dataframe\">\n",
       "  <thead>\n",
       "    <tr style=\"text-align: right;\">\n",
       "      <th></th>\n",
       "      <th>Review Length</th>\n",
       "    </tr>\n",
       "    <tr>\n",
       "      <th>score</th>\n",
       "      <th></th>\n",
       "    </tr>\n",
       "  </thead>\n",
       "  <tbody>\n",
       "    <tr>\n",
       "      <th>1</th>\n",
       "      <td>122.609668</td>\n",
       "    </tr>\n",
       "    <tr>\n",
       "      <th>2</th>\n",
       "      <td>145.257381</td>\n",
       "    </tr>\n",
       "    <tr>\n",
       "      <th>3</th>\n",
       "      <td>120.637584</td>\n",
       "    </tr>\n",
       "    <tr>\n",
       "      <th>4</th>\n",
       "      <td>90.273487</td>\n",
       "    </tr>\n",
       "    <tr>\n",
       "      <th>5</th>\n",
       "      <td>58.032798</td>\n",
       "    </tr>\n",
       "  </tbody>\n",
       "</table>\n",
       "</div>"
      ],
      "text/plain": [
       "       Review Length\n",
       "score               \n",
       "1         122.609668\n",
       "2         145.257381\n",
       "3         120.637584\n",
       "4          90.273487\n",
       "5          58.032798"
      ]
     },
     "execution_count": 305,
     "metadata": {},
     "output_type": "execute_result"
    }
   ],
   "source": [
    "answer13"
   ]
  },
  {
   "cell_type": "markdown",
   "metadata": {},
   "source": [
    "#### 14. Compare the average length of reviews in each score-sub-group in the 8 app categories"
   ]
  },
  {
   "cell_type": "code",
   "execution_count": 292,
   "metadata": {},
   "outputs": [
    {
     "data": {
      "text/plain": [
       "<matplotlib.legend.Legend at 0x1d8733171d0>"
      ]
     },
     "execution_count": 292,
     "metadata": {},
     "output_type": "execute_result"
    },
    {
     "data": {
      "image/png": "[encoded data removed]",
      "text/plain": [
       "<Figure size 432x288 with 1 Axes>"
      ]
     },
     "metadata": {
      "needs_background": "light"
     },
     "output_type": "display_data"
    }
   ],
   "source": [
    "answer14.unstack().plot(kind='bar',title=\"The average length of reviews by score sub group\")\n",
    "plt.legend(loc='center left', bbox_to_anchor=(1.0, 0.5))\n"
   ]
  },
  {
   "cell_type": "markdown",
   "metadata": {},
   "source": [
    "#### 15. Compare the number of reviews in each score-sub-group in the 8 app categories"
   ]
  },
  {
   "cell_type": "code",
   "execution_count": 291,
   "metadata": {},
   "outputs": [
    {
     "data": {
      "text/plain": [
       "<matplotlib.legend.Legend at 0x1d886055550>"
      ]
     },
     "execution_count": 291,
     "metadata": {},
     "output_type": "execute_result"
    },
    {
     "data": {
      "image/png": "[encoded data removed]",
      "text/plain": [
       "<Figure size 432x288 with 1 Axes>"
      ]
     },
     "metadata": {
      "needs_background": "light"
     },
     "output_type": "display_data"
    }
   ],
   "source": [
    "answer15.unstack().plot(kind='bar',title =  \"The number of reviews in each score-sub-group in the 8 app categories\")\n",
    "plt.legend(loc='center left', bbox_to_anchor=(1.0, 0.5))"
   ]
  },
  {
   "cell_type": "markdown",
   "metadata": {},
   "source": [
    "#### 16. Compare the number of apps in each score-sub-group in the 8 app categories"
   ]
  },
  {
   "cell_type": "code",
   "execution_count": 290,
   "metadata": {},
   "outputs": [
    {
     "data": {
      "text/plain": [
       "<matplotlib.legend.Legend at 0x1d873baa3c8>"
      ]
     },
     "execution_count": 290,
     "metadata": {},
     "output_type": "execute_result"
    },
    {
     "data": {
      "image/png": "[encoded data removed]",
      "text/plain": [
       "<Figure size 432x288 with 1 Axes>"
      ]
     },
     "metadata": {
      "needs_background": "light"
     },
     "output_type": "display_data"
    }
   ],
   "source": [
    "answer16.unstack().plot(kind='bar',title = \"The number of apps in each score-sub-group in the 8 app categories\")\n",
    "plt.legend(loc='center left', bbox_to_anchor=(1.0, 0.5))"
   ]
  },
  {
   "cell_type": "markdown",
   "metadata": {},
   "source": [
    "#### 17. Is there any correlation between the length of the reviews and the score in each app-category?"
   ]
  },
  {
   "cell_type": "markdown",
   "metadata": {},
   "source": [
    "From the table we can see that, there is a negative correlation between the length of reviews and the score in each app- category, especially in Finance category."
   ]
  },
  {
   "cell_type": "code",
   "execution_count": 289,
   "metadata": {},
   "outputs": [
    {
     "data": {
      "text/html": [
       "<div>\n",
       "<style scoped>\n",
       "    .dataframe tbody tr th:only-of-type {\n",
       "        vertical-align: middle;\n",
       "    }\n",
       "\n",
       "    .dataframe tbody tr th {\n",
       "        vertical-align: top;\n",
       "    }\n",
       "\n",
       "    .dataframe thead th {\n",
       "        text-align: right;\n",
       "    }\n",
       "</style>\n",
       "<table border=\"1\" class=\"dataframe\">\n",
       "  <thead>\n",
       "    <tr style=\"text-align: right;\">\n",
       "      <th></th>\n",
       "      <th></th>\n",
       "      <th>Review Length</th>\n",
       "    </tr>\n",
       "    <tr>\n",
       "      <th>category</th>\n",
       "      <th></th>\n",
       "      <th></th>\n",
       "    </tr>\n",
       "  </thead>\n",
       "  <tbody>\n",
       "    <tr>\n",
       "      <th>EDUCATION</th>\n",
       "      <th>score</th>\n",
       "      <td>-0.216306</td>\n",
       "    </tr>\n",
       "    <tr>\n",
       "      <th>ENTERTAINMENT</th>\n",
       "      <th>score</th>\n",
       "      <td>-0.283769</td>\n",
       "    </tr>\n",
       "    <tr>\n",
       "      <th>FAMILY</th>\n",
       "      <th>score</th>\n",
       "      <td>-0.180346</td>\n",
       "    </tr>\n",
       "    <tr>\n",
       "      <th>FINANCE</th>\n",
       "      <th>score</th>\n",
       "      <td>-0.433923</td>\n",
       "    </tr>\n",
       "    <tr>\n",
       "      <th>GAME_ACTION</th>\n",
       "      <th>score</th>\n",
       "      <td>-0.237467</td>\n",
       "    </tr>\n",
       "    <tr>\n",
       "      <th>HEALTH_AND_FITNESS</th>\n",
       "      <th>score</th>\n",
       "      <td>-0.286017</td>\n",
       "    </tr>\n",
       "    <tr>\n",
       "      <th>LIFESTYLE</th>\n",
       "      <th>score</th>\n",
       "      <td>-0.278002</td>\n",
       "    </tr>\n",
       "    <tr>\n",
       "      <th>MUSIC_AND_AUDIO</th>\n",
       "      <th>score</th>\n",
       "      <td>-0.351347</td>\n",
       "    </tr>\n",
       "  </tbody>\n",
       "</table>\n",
       "</div>"
      ],
      "text/plain": [
       "                          Review Length\n",
       "category                               \n",
       "EDUCATION          score      -0.216306\n",
       "ENTERTAINMENT      score      -0.283769\n",
       "FAMILY             score      -0.180346\n",
       "FINANCE            score      -0.433923\n",
       "GAME_ACTION        score      -0.237467\n",
       "HEALTH_AND_FITNESS score      -0.286017\n",
       "LIFESTYLE          score      -0.278002\n",
       "MUSIC_AND_AUDIO    score      -0.351347"
      ]
     },
     "execution_count": 289,
     "metadata": {},
     "output_type": "execute_result"
    }
   ],
   "source": [
    "answer17"
   ]
  },
  {
   "cell_type": "markdown",
   "metadata": {},
   "source": [
    "#### 18. Find the evolution/changes of the star rating and length of reviews during time for each app category"
   ]
  },
  {
   "cell_type": "markdown",
   "metadata": {},
   "source": [
    "We can not use the date column in our database as there are many observations having un date format so we need to extract the date from the file name for this question"
   ]
  },
  {
   "cell_type": "code",
   "execution_count": 265,
   "metadata": {},
   "outputs": [
    {
     "data": {
      "text/plain": [
       "<matplotlib.legend.Legend at 0x1d82e5fe208>"
      ]
     },
     "execution_count": 265,
     "metadata": {},
     "output_type": "execute_result"
    },
    {
     "data": {
      "image/png": "[encoded data removed]",
      "text/plain": [
       "<Figure size 432x288 with 1 Axes>"
      ]
     },
     "metadata": {
      "needs_background": "light"
     },
     "output_type": "display_data"
    }
   ],
   "source": [
    "answer18.unstack().plot(kind='bar',title=\"The average the length of reviews during time for each app category\")\n",
    "plt.legend(loc='center left', bbox_to_anchor=(1.0, 0.5))\n"
   ]
  },
  {
   "cell_type": "code",
   "execution_count": 263,
   "metadata": {},
   "outputs": [
    {
     "data": {
      "text/plain": [
       "<matplotlib.legend.Legend at 0x1d80676b1d0>"
      ]
     },
     "execution_count": 263,
     "metadata": {},
     "output_type": "execute_result"
    },
    {
     "data": {
      "image/png": "[encoded data removed]",
      "text/plain": [
       "<Figure size 432x288 with 1 Axes>"
      ]
     },
     "metadata": {
      "needs_background": "light"
     },
     "output_type": "display_data"
    }
   ],
   "source": [
    "answer18_score.unstack().plot(kind='bar',title=\"The average score during time for each app category\")\n",
    "plt.legend(loc='center left', bbox_to_anchor=(1.0, 0.5))\n"
   ]
  },
  {
   "cell_type": "markdown",
   "metadata": {},
   "source": [
    "#### 19. Compare your scores among the app categories. Do you see a difference between app categories?"
   ]
  },
  {
   "cell_type": "markdown",
   "metadata": {},
   "source": [
    "**Conclusion: In average app categories have close sentiment score via the manual rating and quite neutral with the values are close to 0.**"
   ]
  },
  {
   "cell_type": "code",
   "execution_count": 267,
   "metadata": {},
   "outputs": [
    {
     "data": {
      "text/plain": [
       "<matplotlib.axes._subplots.AxesSubplot at 0x1d87995ea20>"
      ]
     },
     "execution_count": 267,
     "metadata": {},
     "output_type": "execute_result"
    },
    {
     "data": {
      "image/png": "[encoded data removed]",
      "text/plain": [
       "<Figure size 432x288 with 1 Axes>"
      ]
     },
     "metadata": {
      "needs_background": "light"
     },
     "output_type": "display_data"
    }
   ],
   "source": [
    "answer19.unstack().plot(kind='bar',title=\"Manual Score of Apps by categories\")\n"
   ]
  },
  {
   "cell_type": "markdown",
   "metadata": {},
   "source": [
    "# BONUS"
   ]
  },
  {
   "cell_type": "code",
   "execution_count": 90,
   "metadata": {},
   "outputs": [],
   "source": [
    "from sklearn.cluster import DBSCAN\n",
    "import numpy as np"
   ]
  },
  {
   "cell_type": "code",
   "execution_count": 91,
   "metadata": {},
   "outputs": [
    {
     "data": {
      "text/html": [
       "<div>\n",
       "<style scoped>\n",
       "    .dataframe tbody tr th:only-of-type {\n",
       "        vertical-align: middle;\n",
       "    }\n",
       "\n",
       "    .dataframe tbody tr th {\n",
       "        vertical-align: top;\n",
       "    }\n",
       "\n",
       "    .dataframe thead th {\n",
       "        text-align: right;\n",
       "    }\n",
       "</style>\n",
       "<table border=\"1\" class=\"dataframe\">\n",
       "  <thead>\n",
       "    <tr style=\"text-align: right;\">\n",
       "      <th></th>\n",
       "      <th>index</th>\n",
       "      <th>appTitle</th>\n",
       "      <th>userName</th>\n",
       "      <th>date</th>\n",
       "      <th>score</th>\n",
       "      <th>text</th>\n",
       "      <th>category</th>\n",
       "      <th>appTitle_lower</th>\n",
       "      <th>text_org</th>\n",
       "      <th>contentRating</th>\n",
       "      <th>Review Length</th>\n",
       "      <th>month</th>\n",
       "    </tr>\n",
       "  </thead>\n",
       "  <tbody>\n",
       "    <tr>\n",
       "      <th>0</th>\n",
       "      <td>2</td>\n",
       "      <td>Photomath</td>\n",
       "      <td>NaN</td>\n",
       "      <td>March 8, 2019</td>\n",
       "      <td>5</td>\n",
       "      <td>Great App Detailed answers Understandable answers</td>\n",
       "      <td>EDUCATION</td>\n",
       "      <td>photomath</td>\n",
       "      <td>Great App. Detailed answers. Understandable an...</td>\n",
       "      <td>Everyone</td>\n",
       "      <td>49</td>\n",
       "      <td>03</td>\n",
       "    </tr>\n",
       "  </tbody>\n",
       "</table>\n",
       "</div>"
      ],
      "text/plain": [
       "   index   appTitle userName           date  score  \\\n",
       "0      2  Photomath      NaN  March 8, 2019      5   \n",
       "\n",
       "                                                text   category  \\\n",
       "0  Great App Detailed answers Understandable answers  EDUCATION   \n",
       "\n",
       "  appTitle_lower                                           text_org  \\\n",
       "0      photomath  Great App. Detailed answers. Understandable an...   \n",
       "\n",
       "  contentRating  Review Length month  \n",
       "0      Everyone             49    03  "
      ]
     },
     "execution_count": 91,
     "metadata": {},
     "output_type": "execute_result"
    }
   ],
   "source": [
    "frame5.head(1)"
   ]
  },
  {
   "cell_type": "code",
   "execution_count": 96,
   "metadata": {},
   "outputs": [
    {
     "ename": "ValueError",
     "evalue": "Expected 2D array, got 1D array instead:\narray=['Great App Detailed answers Understandable answers'\n 'Great tool for learning math I love it'\n 'great if your in school or have homework' ... 'I like it'\n 'love this app'\n 'The app was great and has a very nice selection of talented artists However ever since the 80 update on my Galaxy note 8 theres an extremely irritating crackling noise constantly going on whenever I try to listen with headphones Please for the love of the sky fix it I cant even listen to music on this app anymore because of how irritating it is'].\nReshape your data either using array.reshape(-1, 1) if your data has a single feature or array.reshape(1, -1) if it contains a single sample.",
     "output_type": "error",
     "traceback": [
      "\u001b[1;31m---------------------------------------------------\u001b[0m",
      "\u001b[1;31mValueError\u001b[0m        Traceback (most recent call last)",
      "\u001b[1;32m<ipython-input-96-6ba6f61196c8>\u001b[0m in \u001b[0;36m<module>\u001b[1;34m\u001b[0m\n\u001b[0;32m      1\u001b[0m \u001b[0mframebonus\u001b[0m\u001b[1;33m=\u001b[0m\u001b[0mframe5\u001b[0m\u001b[1;33m\u001b[0m\u001b[1;33m\u001b[0m\u001b[0m\n\u001b[0;32m      2\u001b[0m \u001b[0mlistcheck\u001b[0m\u001b[1;33m=\u001b[0m\u001b[0mlist\u001b[0m\u001b[1;33m(\u001b[0m\u001b[0mframe5\u001b[0m\u001b[1;33m[\u001b[0m\u001b[1;34m'text'\u001b[0m\u001b[1;33m]\u001b[0m\u001b[1;33m)\u001b[0m\u001b[1;33m\u001b[0m\u001b[1;33m\u001b[0m\u001b[0m\n\u001b[1;32m----> 3\u001b[1;33m \u001b[0mclustering\u001b[0m \u001b[1;33m=\u001b[0m  \u001b[0mDBSCAN\u001b[0m\u001b[1;33m(\u001b[0m\u001b[0meps\u001b[0m\u001b[1;33m=\u001b[0m\u001b[1;36m3\u001b[0m\u001b[1;33m,\u001b[0m \u001b[0mmin_samples\u001b[0m\u001b[1;33m=\u001b[0m\u001b[1;36m2\u001b[0m\u001b[1;33m)\u001b[0m\u001b[1;33m.\u001b[0m\u001b[0mfit\u001b[0m\u001b[1;33m(\u001b[0m\u001b[0mlistcheck\u001b[0m\u001b[1;33m)\u001b[0m\u001b[1;33m\u001b[0m\u001b[1;33m\u001b[0m\u001b[0m\n\u001b[0m",
      "\u001b[1;32m~\\Anaconda3\\lib\\site-packages\\sklearn\\cluster\\dbscan_.py\u001b[0m in \u001b[0;36mfit\u001b[1;34m(self, X, y, sample_weight)\u001b[0m\n\u001b[0;32m    347\u001b[0m \u001b[1;33m\u001b[0m\u001b[0m\n\u001b[0;32m    348\u001b[0m         \"\"\"\n\u001b[1;32m--> 349\u001b[1;33m         \u001b[0mX\u001b[0m \u001b[1;33m=\u001b[0m \u001b[0mcheck_array\u001b[0m\u001b[1;33m(\u001b[0m\u001b[0mX\u001b[0m\u001b[1;33m,\u001b[0m \u001b[0maccept_sparse\u001b[0m\u001b[1;33m=\u001b[0m\u001b[1;34m'csr'\u001b[0m\u001b[1;33m)\u001b[0m\u001b[1;33m\u001b[0m\u001b[1;33m\u001b[0m\u001b[0m\n\u001b[0m\u001b[0;32m    350\u001b[0m         clust = dbscan(X, sample_weight=sample_weight,\n\u001b[0;32m    351\u001b[0m                        **self.get_params())\n",
      "\u001b[1;32m~\\Anaconda3\\lib\\site-packages\\sklearn\\utils\\validation.py\u001b[0m in \u001b[0;36mcheck_array\u001b[1;34m(array, accept_sparse, accept_large_sparse, dtype, order, copy, force_all_finite, ensure_2d, allow_nd, ensure_min_samples, ensure_min_features, warn_on_dtype, estimator)\u001b[0m\n\u001b[0;32m    519\u001b[0m                     \u001b[1;34m\"Reshape your data either using array.reshape(-1, 1) if \"\u001b[0m\u001b[1;33m\u001b[0m\u001b[1;33m\u001b[0m\u001b[0m\n\u001b[0;32m    520\u001b[0m                     \u001b[1;34m\"your data has a single feature or array.reshape(1, -1) \"\u001b[0m\u001b[1;33m\u001b[0m\u001b[1;33m\u001b[0m\u001b[0m\n\u001b[1;32m--> 521\u001b[1;33m                     \"if it contains a single sample.\".format(array))\n\u001b[0m\u001b[0;32m    522\u001b[0m \u001b[1;33m\u001b[0m\u001b[0m\n\u001b[0;32m    523\u001b[0m         \u001b[1;31m# in the future np.flexible dtypes will be handled like object dtypes\u001b[0m\u001b[1;33m\u001b[0m\u001b[1;33m\u001b[0m\u001b[1;33m\u001b[0m\u001b[0m\n",
      "\u001b[1;31mValueError\u001b[0m: Expected 2D array, got 1D array instead:\narray=['Great App Detailed answers Understandable answers'\n 'Great tool for learning math I love it'\n 'great if your in school or have homework' ... 'I like it'\n 'love this app'\n 'The app was great and has a very nice selection of talented artists However ever since the 80 update on my Galaxy note 8 theres an extremely irritating crackling noise constantly going on whenever I try to listen with headphones Please for the love of the sky fix it I cant even listen to music on this app anymore because of how irritating it is'].\nReshape your data either using array.reshape(-1, 1) if your data has a single feature or array.reshape(1, -1) if it contains a single sample."
     ]
    }
   ],
   "source": [
    "framebonus=frame5\n",
    "listcheck=list(frame5['text'])\n",
    "clustering =  DBSCAN(eps=3, min_samples=2).fit(listcheck)\n"
   ]
  }
 ],
 "metadata": {
  "kernelspec": {
   "display_name": "Python 3",
   "language": "python",
   "name": "python3"
  },
  "language_info": {
   "codemirror_mode": {
    "name": "ipython",
    "version": 3
   },
   "file_extension": ".py",
   "mimetype": "text/x-python",
   "name": "python",
   "nbconvert_exporter": "python",
   "pygments_lexer": "ipython3",
   "version": "3.7.3"
  }
 },
 "nbformat": 4,
 "nbformat_minor": 2
}
